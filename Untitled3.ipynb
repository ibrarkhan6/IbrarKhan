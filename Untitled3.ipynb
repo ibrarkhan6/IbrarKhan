{
  "nbformat": 4,
  "nbformat_minor": 0,
  "metadata": {
    "colab": {
      "provenance": [],
      "authorship_tag": "ABX9TyO5Z8QIEafNP70Scyam+yB9",
      "include_colab_link": true
    },
    "kernelspec": {
      "name": "python3",
      "display_name": "Python 3"
    },
    "language_info": {
      "name": "python"
    }
  },
  "cells": [
    {
      "cell_type": "markdown",
      "metadata": {
        "id": "view-in-github",
        "colab_type": "text"
      },
      "source": [
        "<a href=\"https://colab.research.google.com/github/ibrarkhan6/IbrarKhan/blob/main/Untitled3.ipynb\" target=\"_parent\"><img src=\"https://colab.research.google.com/assets/colab-badge.svg\" alt=\"Open In Colab\"/></a>"
      ]
    },
    {
      "cell_type": "code",
      "execution_count": 5,
      "metadata": {
        "colab": {
          "base_uri": "https://localhost:8080/"
        },
        "id": "OmBj691JJNkj",
        "outputId": "e25f5f32-c4e4-4bae-9501-76158328f85a"
      },
      "outputs": [
        {
          "output_type": "stream",
          "name": "stdout",
          "text": [
            "today is 6th october, 2022, thursday.\n"
          ]
        }
      ],
      "source": [
        "date='Today is 6th October, 2022, Thursday.'\n",
        "print(date.lower())\n"
      ]
    },
    {
      "cell_type": "code",
      "source": [
        "date='Today is 6th October, 2022, Thursday.'\n",
        "print(date.upper())"
      ],
      "metadata": {
        "colab": {
          "base_uri": "https://localhost:8080/"
        },
        "id": "EuE1peLYPdR6",
        "outputId": "397f5cfc-cdb4-45f2-9dda-b4555cbf71a3"
      },
      "execution_count": 6,
      "outputs": [
        {
          "output_type": "stream",
          "name": "stdout",
          "text": [
            "TODAY IS 6TH OCTOBER, 2022, THURSDAY.\n"
          ]
        }
      ]
    },
    {
      "cell_type": "code",
      "source": [
        "date='Today is 6th October, 2022, Thursday.'\n",
        "print(date.title())"
      ],
      "metadata": {
        "colab": {
          "base_uri": "https://localhost:8080/"
        },
        "id": "1EAj9a5bPsSR",
        "outputId": "b7e28b39-078c-4f2d-ef64-7fe4da2f444a"
      },
      "execution_count": 7,
      "outputs": [
        {
          "output_type": "stream",
          "name": "stdout",
          "text": [
            "Today Is 6Th October, 2022, Thursday.\n"
          ]
        }
      ]
    },
    {
      "cell_type": "code",
      "source": [
        "rhyme='twinkle twinkle little star.how I wonder, what you are!'\n",
        "print(rhyme.capitalize())\n"
      ],
      "metadata": {
        "colab": {
          "base_uri": "https://localhost:8080/"
        },
        "id": "HMKrhwpFP8lc",
        "outputId": "6835e053-4912-47a2-8d10-fca50a0981f3"
      },
      "execution_count": 10,
      "outputs": [
        {
          "output_type": "stream",
          "name": "stdout",
          "text": [
            "Twinkle twinkle little star.how i wonder, what you are!\n"
          ]
        }
      ]
    },
    {
      "cell_type": "code",
      "source": [
        "rhyme='twinkle twinkle little star.how I wonder, what you are!'\n",
        "print(date.swapcase())"
      ],
      "metadata": {
        "colab": {
          "base_uri": "https://localhost:8080/"
        },
        "id": "-c2EdXgJQuIN",
        "outputId": "adabef95-712a-4271-b61b-c27bde527119"
      },
      "execution_count": 11,
      "outputs": [
        {
          "output_type": "stream",
          "name": "stdout",
          "text": [
            "tODAY IS 6TH oCTOBER, 2022, tHURSDAY.\n"
          ]
        }
      ]
    },
    {
      "cell_type": "code",
      "source": [
        "#use of lstrip() function to remove spaces from left side of the string\n",
        "word='   python'\n",
        "new_word=word.lstrip()\n",
        "print(word)\n",
        "print(new_word)"
      ],
      "metadata": {
        "colab": {
          "base_uri": "https://localhost:8080/"
        },
        "id": "zAtjntxfQ2OV",
        "outputId": "ea73d767-0a11-44f3-edbb-faa65eeea142"
      },
      "execution_count": 4,
      "outputs": [
        {
          "output_type": "stream",
          "name": "stdout",
          "text": [
            "   python\n",
            "python\n"
          ]
        }
      ]
    },
    {
      "cell_type": "code",
      "source": [
        "#use of rstrip() funstion to remove spaces from right side of the string \n",
        "word='python   '\n",
        "new_word=word.rstrip()\n",
        "print(word)\n",
        "print(new_word)"
      ],
      "metadata": {
        "colab": {
          "base_uri": "https://localhost:8080/"
        },
        "id": "-qW8cyLD2GYv",
        "outputId": "bf45a0d2-8fe0-45de-f179-d900d53ccc5f"
      },
      "execution_count": 5,
      "outputs": [
        {
          "output_type": "stream",
          "name": "stdout",
          "text": [
            "python   \n",
            "python\n"
          ]
        }
      ]
    },
    {
      "cell_type": "code",
      "source": [
        "#use of rstrip() funstion to remove spaces from right side of the string \n",
        "word='python   '\n",
        "new_word=word.rstrip()\n",
        "print(word)\n",
        "print(new_word)"
      ],
      "metadata": {
        "colab": {
          "base_uri": "https://localhost:8080/"
        },
        "id": "R9m_kymI-YFW",
        "outputId": "9d394be5-8668-4079-cfe6-7d7c926b8a76"
      },
      "execution_count": 6,
      "outputs": [
        {
          "output_type": "stream",
          "name": "stdout",
          "text": [
            "python   \n",
            "python\n"
          ]
        }
      ]
    },
    {
      "cell_type": "code",
      "source": [
        "#To add a tab to your text, use the character combination \\t\n",
        "\n",
        "print(\"The programming language is \\t Python\")"
      ],
      "metadata": {
        "colab": {
          "base_uri": "https://localhost:8080/"
        },
        "id": "sTSAcq9RIHrQ",
        "outputId": "fa565fdc-d8a3-4dd5-b153-14d9cb9e0335"
      },
      "execution_count": 8,
      "outputs": [
        {
          "output_type": "stream",
          "name": "stdout",
          "text": [
            "The programming language is \t Python\n"
          ]
        }
      ]
    },
    {
      "cell_type": "code",
      "source": [
        "#To add a newline in a string, use the character combination \\n:\n",
        "\n",
        "print(\"\\n\")\n",
        "\n",
        "print(\"Programming Languages: \\nPython \\nC \\n Java\")\n",
        "\n",
        "print(\"\\n\")\n",
        "\n",
        "print(\"Programming Languages: \\n\\tPython \\n\\tC \\n\\tJava\")"
      ],
      "metadata": {
        "colab": {
          "base_uri": "https://localhost:8080/"
        },
        "id": "1COzNyuSLopa",
        "outputId": "ea1e790a-41e9-44de-9e67-6dd04f23c514"
      },
      "execution_count": 10,
      "outputs": [
        {
          "output_type": "stream",
          "name": "stdout",
          "text": [
            "\n",
            "\n",
            "Programming Languages: \n",
            "Python \n",
            "C \n",
            " Java\n",
            "\n",
            "\n",
            "Programming Languages: \n",
            "\tPython \n",
            "\tC \n",
            "\tJava\n"
          ]
        }
      ]
    }
  ]
}