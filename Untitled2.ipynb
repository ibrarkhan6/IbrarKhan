{
  "nbformat": 4,
  "nbformat_minor": 0,
  "metadata": {
    "colab": {
      "provenance": [],
      "collapsed_sections": [],
      "authorship_tag": "ABX9TyOCvZ2YuT7WxfW+f+SsLriD",
      "include_colab_link": true
    },
    "kernelspec": {
      "name": "python3",
      "display_name": "Python 3"
    },
    "language_info": {
      "name": "python"
    }
  },
  "cells": [
    {
      "cell_type": "markdown",
      "metadata": {
        "id": "view-in-github",
        "colab_type": "text"
      },
      "source": [
        "<a href=\"https://colab.research.google.com/github/ibrarkhan6/IbrarKhan/blob/main/Untitled2.ipynb\" target=\"_parent\"><img src=\"https://colab.research.google.com/assets/colab-badge.svg\" alt=\"Open In Colab\"/></a>"
      ]
    },
    {
      "cell_type": "code",
      "execution_count": null,
      "metadata": {
        "colab": {
          "base_uri": "https://localhost:8080/"
        },
        "id": "lRbD0rDizLsV",
        "outputId": "bf5457b2-0de9-4da7-bd52-833f295f3221"
      },
      "outputs": [
        {
          "output_type": "stream",
          "name": "stdout",
          "text": [
            "Today is 6Th October,2022,Thursday\n"
          ]
        }
      ],
      "source": [
        "sentence='Today is 6Th October,2022,Thursday'\n",
        "print(sentence)"
      ]
    },
    {
      "cell_type": "code",
      "source": [
        "1sentence='Today is 6th October,2022,Thursday.'\n",
        "print(sentence)"
      ],
      "metadata": {
        "colab": {
          "base_uri": "https://localhost:8080/",
          "height": 130
        },
        "id": "GefDhLtd1z-c",
        "outputId": "ed88ffe1-4301-49d6-a2a9-a63467b46d6c"
      },
      "execution_count": null,
      "outputs": [
        {
          "output_type": "error",
          "ename": "SyntaxError",
          "evalue": "ignored",
          "traceback": [
            "\u001b[0;36m  File \u001b[0;32m\"<ipython-input-3-deec3ed5bda6>\"\u001b[0;36m, line \u001b[0;32m1\u001b[0m\n\u001b[0;31m    1sentence='Today is 6th October,2022,Thursday.'\u001b[0m\n\u001b[0m            ^\u001b[0m\n\u001b[0;31mSyntaxError\u001b[0m\u001b[0;31m:\u001b[0m invalid syntax\n"
          ]
        }
      ]
    },
    {
      "cell_type": "code",
      "source": [
        "-sentence='Today is 6Th October,2022,Thursday.'\n",
        "print(sentence)"
      ],
      "metadata": {
        "colab": {
          "base_uri": "https://localhost:8080/",
          "height": 130
        },
        "id": "DTofUi7p2jVy",
        "outputId": "9bf2b3c4-6f21-4e81-dba9-37b054eff66a"
      },
      "execution_count": null,
      "outputs": [
        {
          "output_type": "error",
          "ename": "SyntaxError",
          "evalue": "ignored",
          "traceback": [
            "\u001b[0;36m  File \u001b[0;32m\"<ipython-input-4-58f4fb995455>\"\u001b[0;36m, line \u001b[0;32m1\u001b[0m\n\u001b[0;31m    -sentence='Today is 6Th October,2022,Thursday.'\u001b[0m\n\u001b[0m                                                   ^\u001b[0m\n\u001b[0;31mSyntaxError\u001b[0m\u001b[0;31m:\u001b[0m can't assign to operator\n"
          ]
        }
      ]
    },
    {
      "cell_type": "code",
      "source": [
        "i,j=100,200\n",
        "print(i) #100\n",
        "print(j) #200"
      ],
      "metadata": {
        "colab": {
          "base_uri": "https://localhost:8080/"
        },
        "id": "wTv_oXXQ3GSA",
        "outputId": "6c433387-e052-4a35-836a-93b42ce4748a"
      },
      "execution_count": null,
      "outputs": [
        {
          "output_type": "stream",
          "name": "stdout",
          "text": [
            "100\n",
            "200\n"
          ]
        }
      ]
    },
    {
      "cell_type": "code",
      "source": [
        "x=3\n",
        "y=8\n",
        "z=16\n",
        "print(x,y,z)"
      ],
      "metadata": {
        "colab": {
          "base_uri": "https://localhost:8080/"
        },
        "id": "MX0PStkb38dD",
        "outputId": "17024507-0bab-46c1-dd46-c4301ba4126e"
      },
      "execution_count": null,
      "outputs": [
        {
          "output_type": "stream",
          "name": "stdout",
          "text": [
            "3 8 16\n"
          ]
        }
      ]
    },
    {
      "cell_type": "code",
      "source": [
        "x=4.5\n",
        "y=5.5\n",
        "z=6.5\n",
        "print(x,y,z)"
      ],
      "metadata": {
        "colab": {
          "base_uri": "https://localhost:8080/"
        },
        "id": "G_yw0q_v4KIk",
        "outputId": "21d85398-0c14-4b14-897b-772c22ee37a8"
      },
      "execution_count": null,
      "outputs": [
        {
          "output_type": "stream",
          "name": "stdout",
          "text": [
            "4.5 5.5 6.5\n"
          ]
        }
      ]
    },
    {
      "cell_type": "code",
      "source": [
        "d=2 #int value\n",
        "e=7.5 #float\n",
        "f=7+7j #Complex\n",
        "\n",
        "print(\"type of d is\",type(d))\n",
        "print(\"type of e is\",type(e))\n",
        "print(\"type of f is\",type(f))\n",
        "\n"
      ],
      "metadata": {
        "colab": {
          "base_uri": "https://localhost:8080/"
        },
        "id": "ly_h6A9Z4lVh",
        "outputId": "89fdcde2-6212-47ad-d85d-eaa0fb1579c4"
      },
      "execution_count": null,
      "outputs": [
        {
          "output_type": "stream",
          "name": "stdout",
          "text": [
            "type of d is <class 'int'>\n",
            "type of e is <class 'float'>\n",
            "type of f is <class 'complex'>\n"
          ]
        }
      ]
    },
    {
      "cell_type": "code",
      "source": [
        "print(\"enter marks\")\n",
        "marks= int(input())\n",
        "print(\"marks obtained are\",marks)"
      ],
      "metadata": {
        "colab": {
          "base_uri": "https://localhost:8080/"
        },
        "id": "tAEMKaaF70I0",
        "outputId": "25dacfe3-afe8-4fa4-e684-fc26416e022f"
      },
      "execution_count": null,
      "outputs": [
        {
          "output_type": "stream",
          "name": "stdout",
          "text": [
            "enter marks\n",
            "99\n",
            "marks obtained are 99\n"
          ]
        }
      ]
    },
    {
      "cell_type": "code",
      "source": [
        "\n",
        "print('Please enter the side of square:')\n",
        "side=int(input())\n",
        "print('Side of the square',side)\n",
        "print('The area of a square with side'+str(side)+'units='+str(side**2)+'sq units')"
      ],
      "metadata": {
        "colab": {
          "base_uri": "https://localhost:8080/"
        },
        "id": "UWZa6gYX8UuU",
        "outputId": "11d2ab82-dadc-4937-8699-d790f0f0bbb2"
      },
      "execution_count": null,
      "outputs": [
        {
          "output_type": "stream",
          "name": "stdout",
          "text": [
            "Please enter the side of square:\n",
            "45\n",
            "Side of the square= 45\n",
            "The area of a square with side45units=2025sq units\n"
          ]
        }
      ]
    },
    {
      "cell_type": "code",
      "source": [],
      "metadata": {
        "id": "hDKnxI11I9MC"
      },
      "execution_count": null,
      "outputs": []
    },
    {
      "cell_type": "code",
      "source": [
        "PI=3.142\n",
        "print('Enter the radius of circle:')\n",
        "r=int(input())\n",
        "print('The area of the circle with radius '+str(r)+' units=: '+str(PI*r**2)+' sq units')\n"
      ],
      "metadata": {
        "colab": {
          "base_uri": "https://localhost:8080/"
        },
        "id": "SYAc0sq3-4n4",
        "outputId": "4bdebbca-aa0f-43d1-8a4f-d2caa61252bc"
      },
      "execution_count": null,
      "outputs": [
        {
          "output_type": "stream",
          "name": "stdout",
          "text": [
            "Enter the radius of circle:\n",
            "2\n",
            "The area of the circle with radius 2 units=: 12.568 sq units\n"
          ]
        }
      ]
    },
    {
      "cell_type": "code",
      "source": [],
      "metadata": {
        "id": "A-v81tnUHsqI"
      },
      "execution_count": null,
      "outputs": []
    }
  ]
}