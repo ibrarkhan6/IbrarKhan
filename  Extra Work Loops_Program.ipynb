{
  "nbformat": 4,
  "nbformat_minor": 0,
  "metadata": {
    "colab": {
      "provenance": [],
      "collapsed_sections": [],
      "authorship_tag": "ABX9TyPAHF7SlBkTukIJBOgzNyVj",
      "include_colab_link": true
    },
    "kernelspec": {
      "name": "python3",
      "display_name": "Python 3"
    },
    "language_info": {
      "name": "python"
    }
  },
  "cells": [
    {
      "cell_type": "markdown",
      "metadata": {
        "id": "view-in-github",
        "colab_type": "text"
      },
      "source": [
        "<a href=\"https://colab.research.google.com/github/ibrarkhan6/IbrarKhan/blob/main/%20Extra%20Work%20Loops_Program.ipynb\" target=\"_parent\"><img src=\"https://colab.research.google.com/assets/colab-badge.svg\" alt=\"Open In Colab\"/></a>"
      ]
    },
    {
      "cell_type": "markdown",
      "source": [
        "Prograne 1 \n",
        "Write a program to print numbers from 1 to 10 using while loop."
      ],
      "metadata": {
        "id": "fU8puBAX31Fo"
      }
    },
    {
      "cell_type": "code",
      "source": [
        "count=1 \n",
        "while count<=10:\n",
        "  print(count)\n",
        "  count=count+3"
      ],
      "metadata": {
        "colab": {
          "base_uri": "https://localhost:8080/"
        },
        "id": "vlQBRi1p4E5t",
        "outputId": "21b041fe-8147-4a78-83a4-c3d719a6dd36"
      },
      "execution_count": null,
      "outputs": [
        {
          "output_type": "stream",
          "name": "stdout",
          "text": [
            "1\n",
            "4\n",
            "7\n",
            "10\n"
          ]
        }
      ]
    },
    {
      "cell_type": "code",
      "source": [
        "count=1 \n",
        "while count<=10:\n",
        "  print(count)\n",
        "  count+=2"
      ],
      "metadata": {
        "colab": {
          "base_uri": "https://localhost:8080/"
        },
        "id": "xuilpcOU4_Gw",
        "outputId": "6ce609ae-faab-4055-bfec-c49960a9b210"
      },
      "execution_count": null,
      "outputs": [
        {
          "output_type": "stream",
          "name": "stdout",
          "text": [
            "1\n",
            "3\n",
            "5\n",
            "7\n",
            "9\n"
          ]
        }
      ]
    },
    {
      "cell_type": "markdown",
      "source": [
        "Programe 2 "
      ],
      "metadata": {
        "id": "Zg6ZTHlj7HEA"
      }
    },
    {
      "cell_type": "code",
      "source": [
        "city_name='\\nPlease enter the name the city that you would love to visit:'\n",
        "city_name+='\\nEnter quit when you are finished'\n",
        "while True:\n",
        "  city=input(city_name)\n",
        "  if city=='quit':\n",
        "    break\n",
        "  else:\n",
        "    print(' I would love to go to',city.title(),'!')"
      ],
      "metadata": {
        "colab": {
          "base_uri": "https://localhost:8080/",
          "height": 658
        },
        "id": "xNvp255e6P96",
        "outputId": "a1627886-3a10-457b-9721-0ac5fd2ffc37"
      },
      "execution_count": null,
      "outputs": [
        {
          "output_type": "stream",
          "name": "stdout",
          "text": [
            "\n",
            "Please enter the name the city that you would love to visit:\n",
            "Enter quit when you are finishedDubai\n",
            " I would love to go to Dubai !\n",
            "\n",
            "Please enter the name the city that you would love to visit:\n",
            "Enter quit when you are finished Sharjah\n",
            " I would love to go to  Sharjah !\n",
            "\n",
            "Please enter the name the city that you would love to visit:\n",
            "Enter quit when you are finishedAjman\n",
            " I would love to go to Ajman !\n",
            "\n",
            "Please enter the name the city that you would love to visit:\n",
            "Enter quit when you are finished Ras AL Khaimah\n",
            " I would love to go to  Ras Al Khaimah !\n"
          ]
        },
        {
          "output_type": "error",
          "ename": "KeyboardInterrupt",
          "evalue": "ignored",
          "traceback": [
            "\u001b[0;31m---------------------------------------------------------------------------\u001b[0m",
            "\u001b[0;31mKeyboardInterrupt\u001b[0m                         Traceback (most recent call last)",
            "\u001b[0;32m<ipython-input-12-6c3eab6081c8>\u001b[0m in \u001b[0;36m<module>\u001b[0;34m\u001b[0m\n\u001b[1;32m      2\u001b[0m \u001b[0mcity_name\u001b[0m\u001b[0;34m+=\u001b[0m\u001b[0;34m'\\nEnter quit when you are finished'\u001b[0m\u001b[0;34m\u001b[0m\u001b[0;34m\u001b[0m\u001b[0m\n\u001b[1;32m      3\u001b[0m \u001b[0;32mwhile\u001b[0m \u001b[0;32mTrue\u001b[0m\u001b[0;34m:\u001b[0m\u001b[0;34m\u001b[0m\u001b[0;34m\u001b[0m\u001b[0m\n\u001b[0;32m----> 4\u001b[0;31m   \u001b[0mcity\u001b[0m\u001b[0;34m=\u001b[0m\u001b[0minput\u001b[0m\u001b[0;34m(\u001b[0m\u001b[0mcity_name\u001b[0m\u001b[0;34m)\u001b[0m\u001b[0;34m\u001b[0m\u001b[0;34m\u001b[0m\u001b[0m\n\u001b[0m\u001b[1;32m      5\u001b[0m   \u001b[0;32mif\u001b[0m \u001b[0mcity\u001b[0m\u001b[0;34m==\u001b[0m\u001b[0;34m'quit'\u001b[0m\u001b[0;34m:\u001b[0m\u001b[0;34m\u001b[0m\u001b[0;34m\u001b[0m\u001b[0m\n\u001b[1;32m      6\u001b[0m     \u001b[0;32mbreak\u001b[0m\u001b[0;34m\u001b[0m\u001b[0;34m\u001b[0m\u001b[0m\n",
            "\u001b[0;32m/usr/local/lib/python3.7/dist-packages/ipykernel/kernelbase.py\u001b[0m in \u001b[0;36mraw_input\u001b[0;34m(self, prompt)\u001b[0m\n\u001b[1;32m    861\u001b[0m             \u001b[0mself\u001b[0m\u001b[0;34m.\u001b[0m\u001b[0m_parent_ident\u001b[0m\u001b[0;34m,\u001b[0m\u001b[0;34m\u001b[0m\u001b[0;34m\u001b[0m\u001b[0m\n\u001b[1;32m    862\u001b[0m             \u001b[0mself\u001b[0m\u001b[0;34m.\u001b[0m\u001b[0m_parent_header\u001b[0m\u001b[0;34m,\u001b[0m\u001b[0;34m\u001b[0m\u001b[0;34m\u001b[0m\u001b[0m\n\u001b[0;32m--> 863\u001b[0;31m             \u001b[0mpassword\u001b[0m\u001b[0;34m=\u001b[0m\u001b[0;32mFalse\u001b[0m\u001b[0;34m,\u001b[0m\u001b[0;34m\u001b[0m\u001b[0;34m\u001b[0m\u001b[0m\n\u001b[0m\u001b[1;32m    864\u001b[0m         )\n\u001b[1;32m    865\u001b[0m \u001b[0;34m\u001b[0m\u001b[0m\n",
            "\u001b[0;32m/usr/local/lib/python3.7/dist-packages/ipykernel/kernelbase.py\u001b[0m in \u001b[0;36m_input_request\u001b[0;34m(self, prompt, ident, parent, password)\u001b[0m\n\u001b[1;32m    902\u001b[0m             \u001b[0;32mexcept\u001b[0m \u001b[0mKeyboardInterrupt\u001b[0m\u001b[0;34m:\u001b[0m\u001b[0;34m\u001b[0m\u001b[0;34m\u001b[0m\u001b[0m\n\u001b[1;32m    903\u001b[0m                 \u001b[0;31m# re-raise KeyboardInterrupt, to truncate traceback\u001b[0m\u001b[0;34m\u001b[0m\u001b[0;34m\u001b[0m\u001b[0;34m\u001b[0m\u001b[0m\n\u001b[0;32m--> 904\u001b[0;31m                 \u001b[0;32mraise\u001b[0m \u001b[0mKeyboardInterrupt\u001b[0m\u001b[0;34m(\u001b[0m\u001b[0;34m\"Interrupted by user\"\u001b[0m\u001b[0;34m)\u001b[0m \u001b[0;32mfrom\u001b[0m \u001b[0;32mNone\u001b[0m\u001b[0;34m\u001b[0m\u001b[0;34m\u001b[0m\u001b[0m\n\u001b[0m\u001b[1;32m    905\u001b[0m             \u001b[0;32mexcept\u001b[0m \u001b[0mException\u001b[0m \u001b[0;32mas\u001b[0m \u001b[0me\u001b[0m\u001b[0;34m:\u001b[0m\u001b[0;34m\u001b[0m\u001b[0;34m\u001b[0m\u001b[0m\n\u001b[1;32m    906\u001b[0m                 \u001b[0mself\u001b[0m\u001b[0;34m.\u001b[0m\u001b[0mlog\u001b[0m\u001b[0;34m.\u001b[0m\u001b[0mwarning\u001b[0m\u001b[0;34m(\u001b[0m\u001b[0;34m\"Invalid Message:\"\u001b[0m\u001b[0;34m,\u001b[0m \u001b[0mexc_info\u001b[0m\u001b[0;34m=\u001b[0m\u001b[0;32mTrue\u001b[0m\u001b[0;34m)\u001b[0m\u001b[0;34m\u001b[0m\u001b[0;34m\u001b[0m\u001b[0m\n",
            "\u001b[0;31mKeyboardInterrupt\u001b[0m: Interrupted by user"
          ]
        }
      ]
    },
    {
      "cell_type": "markdown",
      "source": [
        "Programe 3 "
      ],
      "metadata": {
        "id": "tqL6_Jv5-j1U"
      }
    },
    {
      "cell_type": "code",
      "source": [
        "count=0\n",
        "while count<10:\n",
        "  count+=1\n",
        "  if count%2==0:\n",
        "    continue \n",
        "    print( count )\n",
        "else:\n",
        "      print('Loop terminated as number exceeds 10')"
      ],
      "metadata": {
        "colab": {
          "base_uri": "https://localhost:8080/"
        },
        "id": "8pg8tvlC-nbi",
        "outputId": "63dbe6a7-72bc-4606-ada2-66bfe691a0d9"
      },
      "execution_count": null,
      "outputs": [
        {
          "output_type": "stream",
          "name": "stdout",
          "text": [
            "Loop terminated as number exceeds 10\n"
          ]
        }
      ]
    },
    {
      "cell_type": "markdown",
      "source": [
        "Programe 4"
      ],
      "metadata": {
        "id": "IYD6Ys8oA79g"
      }
    },
    {
      "cell_type": "code",
      "source": [
        "flowers=['Rose','Jasmine','Sunflower']\n",
        "for flowers in flowers:\n",
        " print(flowers)"
      ],
      "metadata": {
        "colab": {
          "base_uri": "https://localhost:8080/"
        },
        "id": "vnKN-h3dCF_s",
        "outputId": "7b2797df-85ed-49af-ed87-7919ed77825a"
      },
      "execution_count": null,
      "outputs": [
        {
          "output_type": "stream",
          "name": "stdout",
          "text": [
            "Rose\n",
            "Jasmine\n",
            "Sunflower\n"
          ]
        }
      ]
    },
    {
      "cell_type": "markdown",
      "source": [
        "Programe 5 "
      ],
      "metadata": {
        "id": "btZFSa42EZx8"
      }
    },
    {
      "cell_type": "code",
      "source": [
        "student = {'name':'Ben Ten','id':10,'course':'BSC CC'}\n",
        "print('Display key-value pairs')\n",
        "for key, value in student.items(): #Reads all items\n",
        " print(f\"\\nKey: {key}\")\n",
        " print(f\"\\Value: {value}\")\n",
        "\n",
        " print('\\nDisplay only keys')\n",
        " for key in student.keys (): #Selects only keys\n",
        "  print(key)\n",
        "\n",
        " print('\\nDisplay only values')\n",
        " for value in student.values(): #Selects only values\n",
        "  print(value)"
      ],
      "metadata": {
        "colab": {
          "base_uri": "https://localhost:8080/"
        },
        "id": "BQuALYWvE11_",
        "outputId": "09eee3e4-1c93-4bd6-83ac-e01cc310cddb"
      },
      "execution_count": null,
      "outputs": [
        {
          "output_type": "stream",
          "name": "stdout",
          "text": [
            "Display key-value pairs\n",
            "\n",
            "Key: name\n",
            "\\Value: Ben Ten\n",
            "\n",
            "Display only keys\n",
            "name\n",
            "id\n",
            "course\n",
            "\n",
            "Display only values\n",
            "Ben Ten\n",
            "10\n",
            "BSC CC\n",
            "\n",
            "Key: id\n",
            "\\Value: 10\n",
            "\n",
            "Display only keys\n",
            "name\n",
            "id\n",
            "course\n",
            "\n",
            "Display only values\n",
            "Ben Ten\n",
            "10\n",
            "BSC CC\n",
            "\n",
            "Key: course\n",
            "\\Value: BSC CC\n",
            "\n",
            "Display only keys\n",
            "name\n",
            "id\n",
            "course\n",
            "\n",
            "Display only values\n",
            "Ben Ten\n",
            "10\n",
            "BSC CC\n"
          ]
        }
      ]
    },
    {
      "cell_type": "markdown",
      "source": [
        "Programe 6"
      ],
      "metadata": {
        "id": "AlnKtzLPIjpY"
      }
    },
    {
      "cell_type": "code",
      "source": [
        "student = {'name':'Ben Ten','id':10,'course':'BSC CC'}\n",
        "print('Display key-value pairs')\n",
        "for key, value in student.items(): #Reads all items\n",
        " print(f\"\\nKey: {key}\")\n",
        " print(f\"\\Value: {value}\")\n",
        "\n",
        "\n",
        "student['gender']='Male'\n",
        "print(student)\n"
      ],
      "metadata": {
        "colab": {
          "base_uri": "https://localhost:8080/"
        },
        "id": "c38UBNjsIlR5",
        "outputId": "a8619836-f9ba-434b-f2e7-187d94d74954"
      },
      "execution_count": null,
      "outputs": [
        {
          "output_type": "stream",
          "name": "stdout",
          "text": [
            "Display key-value pairs\n",
            "\n",
            "Key: name\n",
            "\\Value: Ben Ten\n",
            "\n",
            "Key: id\n",
            "\\Value: 10\n",
            "\n",
            "Key: course\n",
            "\\Value: BSC CC\n",
            "{'name': 'Ben Ten', 'id': 10, 'course': 'BSC CC', 'gender': 'Male'}\n"
          ]
        }
      ]
    },
    {
      "cell_type": "markdown",
      "source": [
        "Programe 7"
      ],
      "metadata": {
        "id": "r-34JRxSJtmW"
      }
    },
    {
      "cell_type": "code",
      "source": [
        "student1 ={'name':'alpha','id':'5','course':'BSC CC'}\n",
        "student2 ={'name':'beta','id':'10','course':'BSC CC'}\n",
        "student3 ={'name':'gamma','id':'15','course':'BA'}\n",
        "student4 ={'name':'delta','id':'20','course':'BA'}\n",
        "student = [student1,student2,student3,student4]\n",
        "for std in student:\n",
        "  print(std)"
      ],
      "metadata": {
        "colab": {
          "base_uri": "https://localhost:8080/"
        },
        "id": "mMWSR2AQJwBz",
        "outputId": "69a1b511-7ab3-4690-a018-3c778686072f"
      },
      "execution_count": null,
      "outputs": [
        {
          "output_type": "stream",
          "name": "stdout",
          "text": [
            "{'name': 'alpha', 'id': '5', 'course': 'BSC CC'}\n",
            "{'name': 'beta', 'id': '10', 'course': 'BSC CC'}\n",
            "{'name': 'gamma', 'id': '15', 'course': 'BA'}\n",
            "{'name': 'delta', 'id': '20', 'course': 'BA'}\n"
          ]
        }
      ]
    },
    {
      "cell_type": "code",
      "source": [
        "sandwich_orders = ['veggie','grilled cheese','turkey','tuna']\n",
        "finished_sandwiches = []\n",
        "\n",
        "while sandwich_orders:\n",
        "  current_sandwich = sandwich_orders.pop()\n",
        "  print(\"I made your\" + current_sandwich + \"sandwich.\")\n",
        "  finished_sandwiches.append(current_sandwich)\n",
        "\n",
        "\n",
        "print(\"/n\")\n",
        "print('Sandwich Orders:')\n",
        "for sandwich in finished_sandwiches:\n",
        "  print(sandwich,'Sandwich')"
      ],
      "metadata": {
        "colab": {
          "base_uri": "https://localhost:8080/"
        },
        "id": "t1Iq2Kq-LV6P",
        "outputId": "32cba8e9-01cb-4885-8e9a-1413bb841a4f"
      },
      "execution_count": null,
      "outputs": [
        {
          "output_type": "stream",
          "name": "stdout",
          "text": [
            "I made yourtunasandwich.\n",
            "I made yourturkeysandwich.\n",
            "I made yourgrilled cheesesandwich.\n",
            "I made yourveggiesandwich.\n",
            "/n\n",
            "Sandwich Orders:\n",
            "tuna Sandwich\n",
            "turkey Sandwich\n",
            "grilled cheese Sandwich\n",
            "veggie Sandwich\n"
          ]
        }
      ]
    }
  ]
}