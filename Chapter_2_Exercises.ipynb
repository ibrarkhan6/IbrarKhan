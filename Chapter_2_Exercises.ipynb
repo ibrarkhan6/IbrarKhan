{
  "nbformat": 4,
  "nbformat_minor": 0,
  "metadata": {
    "colab": {
      "provenance": [],
      "collapsed_sections": [],
      "authorship_tag": "ABX9TyOTlXamrym9P024vUUZfJvd",
      "include_colab_link": true
    },
    "kernelspec": {
      "name": "python3",
      "display_name": "Python 3"
    },
    "language_info": {
      "name": "python"
    }
  },
  "cells": [
    {
      "cell_type": "markdown",
      "metadata": {
        "id": "view-in-github",
        "colab_type": "text"
      },
      "source": [
        "<a href=\"https://colab.research.google.com/github/ibrarkhan6/IbrarKhan/blob/main/Chapter_2_Exercises.ipynb\" target=\"_parent\"><img src=\"https://colab.research.google.com/assets/colab-badge.svg\" alt=\"Open In Colab\"/></a>"
      ]
    },
    {
      "cell_type": "markdown",
      "source": [
        "# Chapter 2 Exercise \n",
        "\n",
        "Variable and Comments\n",
        "\n"
      ],
      "metadata": {
        "id": "vZHtXPLxyVW2"
      }
    },
    {
      "cell_type": "markdown",
      "source": [
        "Exercise 1: Variables☑️\n",
        "Assign a message to a variable, and print that message. Then change the value of the variable to a new message, and print the new message."
      ],
      "metadata": {
        "id": "-3vuPf1MGx_n"
      }
    },
    {
      "cell_type": "markdown",
      "source": [
        "# Exercise 1"
      ],
      "metadata": {
        "id": "9bkjJdd6yc13"
      }
    },
    {
      "cell_type": "code",
      "source": [
        "message=\"Stay positive .Better days are on their way.\"\n",
        "print(message)                                              # I have assign a message to a variable in order to print that particulare messages.\n",
        "\n",
        "message=\"Life is only as good as your mindset.\"\n",
        "print(message)"
      ],
      "metadata": {
        "colab": {
          "base_uri": "https://localhost:8080/"
        },
        "id": "82tYfcNtyh-y",
        "outputId": "6424710d-739b-42a2-9e15-6c7ed8b1e52b"
      },
      "execution_count": null,
      "outputs": [
        {
          "output_type": "stream",
          "name": "stdout",
          "text": [
            "Stay positive .Better days are on their way.\n",
            "Life is only as good as your mindset.\n"
          ]
        }
      ]
    },
    {
      "cell_type": "markdown",
      "source": [
        "Exercise 2: Variables ☑️\n",
        "Find a quote from a famous person you admire. Print the quote and the name of its author.\n",
        "\n",
        "Your output should look something like the following, including the quotation marks:\n",
        "\n",
        "Albert Einstein once said, “A person who never made a mistake never tried anything new."
      ],
      "metadata": {
        "id": "DtaIsHvnG1gM"
      }
    },
    {
      "cell_type": "markdown",
      "source": [
        "# Exercise 2"
      ],
      "metadata": {
        "id": "uzvIZSN4zK8R"
      }
    },
    {
      "cell_type": "code",
      "source": [
        "print('Imran Khan once said, No power can defeat you as long as you stand firm on your ideology')"
      ],
      "metadata": {
        "colab": {
          "base_uri": "https://localhost:8080/"
        },
        "id": "Kw5YIbmczS0-",
        "outputId": "7d86a66c-d31b-4090-d09f-60b207af5801"
      },
      "execution_count": null,
      "outputs": [
        {
          "output_type": "stream",
          "name": "stdout",
          "text": [
            "Imran Khan once said, No power can defeat you as long as you stand firm on your ideology\n"
          ]
        }
      ]
    },
    {
      "cell_type": "markdown",
      "source": [
        "Exercise 3: Stripping Names ☑️\n",
        "Tidy up the code to make it easier to understand\n",
        "\n",
        "Use a variable to represent a person’s name, and include some whitespace characters at the beginning and end of the name. Make sure you use each character combination, “\\t” and “\\n”, at least once.\n",
        "\n",
        "Print the name once, so the whitespace around the name is displayed.\n",
        "\n",
        "Then print the name using each of the three stripping functions, lstrip(), rstrip(), and strip().\n",
        "\n",
        "     "
      ],
      "metadata": {
        "id": "iXc6caTtG27c"
      }
    },
    {
      "cell_type": "markdown",
      "source": [
        "# Exercise 3"
      ],
      "metadata": {
        "id": "1rmKpLo-0tWW"
      }
    },
    {
      "cell_type": "code",
      "source": [
        "name=\"\\Fawad Khan\\n\"\n",
        "\n",
        "print(\"Unmodified:\")\n",
        "print(name)\n",
        "\n",
        "print(\"\\nUsing lstrip():\")\n",
        "print(name.rstrip())            # I have assign a message to a variable in order to print that particulare messagesa and the result is shown below.\n",
        "\n",
        "\n",
        "print(\"\\nUsing lstrip():\")\n",
        "print(name.rstrip())\n",
        "\n",
        "\n",
        "print(\"\\nUsing lstrip():\")\n",
        "print(name.rstrip())"
      ],
      "metadata": {
        "colab": {
          "base_uri": "https://localhost:8080/"
        },
        "id": "PRLbWmHU0wR7",
        "outputId": "f5e98099-7b42-49ef-ae87-cd3fddb9aed8"
      },
      "execution_count": null,
      "outputs": [
        {
          "output_type": "stream",
          "name": "stdout",
          "text": [
            "Unmodified:\n",
            "\\Fawad Khan\n",
            "\n",
            "\n",
            "Using lstrip():\n",
            "\\Fawad Khan\n",
            "\n",
            "Using lstrip():\n",
            "\\Fawad Khan\n",
            "\n",
            "Using lstrip():\n",
            "\\Fawad Khan\n"
          ]
        }
      ]
    },
    {
      "cell_type": "markdown",
      "source": [
        "Exercise 4: Favorite Number ☑️\n",
        "Use a variable to represent your favorite number. Then,using that variable, create a message that reveals your favorite number. Print that message.\n",
        "\n"
      ],
      "metadata": {
        "id": "AE27SOv4G4b8"
      }
    },
    {
      "cell_type": "markdown",
      "source": [
        "# Exercise 4"
      ],
      "metadata": {
        "id": "RtSjwPbs2KHR"
      }
    },
    {
      "cell_type": "code",
      "source": [
        "print(54)         # # I have assign my favorite number to a variable inorder to create a message that reveals your favorite number."
      ],
      "metadata": {
        "colab": {
          "base_uri": "https://localhost:8080/"
        },
        "id": "CFYMggf62S_e",
        "outputId": "48be700d-b464-4616-f771-8bb74e386d64"
      },
      "execution_count": null,
      "outputs": [
        {
          "output_type": "stream",
          "name": "stdout",
          "text": [
            "54\n"
          ]
        }
      ]
    },
    {
      "cell_type": "markdown",
      "source": [
        "     \n",
        "\n",
        "Exercise 5: USB Shopper ☑️\n",
        "A girl heads to a computer shop to buy some USB sticks. She loves USB sticks and wants as many as she can get for £50. They are £6 each.\n",
        "\n",
        "Write a programme that calculates how many USB sticks she can buy and how many pounds she will have left.\n",
        "\n",
        "You will to use the arithmetic operators to complete this exercise.\n",
        "\n"
      ],
      "metadata": {
        "id": "XinAfLzlG5w3"
      }
    },
    {
      "cell_type": "markdown",
      "source": [
        "# Exercise 5"
      ],
      "metadata": {
        "id": "iXSiMnkx2cv6"
      }
    },
    {
      "cell_type": "code",
      "source": [
        "m=50\n",
        "ip=6\n",
        "\n",
        "amount=int(m)/int(ip)     # I have used a programme and arithmetic operators to complete this exercise.\n",
        "cost=int(amount)*int(ip)\n",
        "change=int(m)-int(cost)\n",
        "print(\"the mount of items you can buy is\",int(amount))\n",
        "print(\"your leftover change is\",int(change))"
      ],
      "metadata": {
        "colab": {
          "base_uri": "https://localhost:8080/"
        },
        "id": "1QVgKXqi2NMu",
        "outputId": "4c50bae2-7c71-4e9b-f29a-913cd8f67441"
      },
      "execution_count": null,
      "outputs": [
        {
          "output_type": "stream",
          "name": "stdout",
          "text": [
            "the mount of items you can buy is 8\n",
            "your leftover change is 2\n"
          ]
        }
      ]
    }
  ]
}