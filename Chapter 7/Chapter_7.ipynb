{
  "nbformat": 4,
  "nbformat_minor": 0,
  "metadata": {
    "colab": {
      "provenance": [],
      "collapsed_sections": [],
      "authorship_tag": "ABX9TyMYa5naRwFYKUffrhEW1lQP",
      "include_colab_link": true
    },
    "kernelspec": {
      "name": "python3",
      "display_name": "Python 3"
    },
    "language_info": {
      "name": "python"
    }
  },
  "cells": [
    {
      "cell_type": "markdown",
      "metadata": {
        "id": "view-in-github",
        "colab_type": "text"
      },
      "source": [
        "<a href=\"https://colab.research.google.com/github/ibrarkhan6/IbrarKhan/blob/main/Chapter%207/Chapter_7.ipynb\" target=\"_parent\"><img src=\"https://colab.research.google.com/assets/colab-badge.svg\" alt=\"Open In Colab\"/></a>"
      ]
    },
    {
      "cell_type": "markdown",
      "source": [
        "Chapter 7 Exercises"
      ],
      "metadata": {
        "id": "UTKo8cuJJIjc"
      }
    },
    {
      "cell_type": "markdown",
      "source": [
        "\n",
        "Exercise 1: Message ☑️\n",
        "Write a function called display_message() that prints one sentence telling everyone what you are learning about in this chapter. Call the\n",
        "\n",
        "function, and make sure the message displays correctly.\n",
        "\n"
      ],
      "metadata": {
        "id": "Gmn-vzwOJUTZ"
      }
    },
    {
      "cell_type": "code",
      "source": [
        "def greet_user():\n",
        "  print(\"Hello UAE!\")\n",
        "greet_user()\n"
      ],
      "metadata": {
        "id": "jvmGFz2KJht8",
        "colab": {
          "base_uri": "https://localhost:8080/"
        },
        "outputId": "a0fc68b3-4f30-45d3-a68a-5f3ec065bc71"
      },
      "execution_count": null,
      "outputs": [
        {
          "output_type": "stream",
          "name": "stdout",
          "text": [
            "Hello UAE!\n"
          ]
        }
      ]
    },
    {
      "cell_type": "markdown",
      "source": [
        "Exercise 2: Favorite Book ☑️\n",
        "Write a function called favorite_book() that accepts one parameter, title. The function should print a message, such as One of my\n",
        "\n",
        "favorite books is Alice in Wonderland. Call the function, making sure to include a book title as an argument in the function call."
      ],
      "metadata": {
        "id": "JZzkQsKZKKtO"
      }
    },
    {
      "cell_type": "code",
      "source": [
        "def favorite_book(bookname):\n",
        "  print(f\"My favorite book is {bookname.title()}!\")\n",
        "favorite_book('Harry Potter')"
      ],
      "metadata": {
        "colab": {
          "base_uri": "https://localhost:8080/"
        },
        "id": "9M7RMkxTKU-_",
        "outputId": "64895bb4-d667-42cf-808e-cbab40382bff"
      },
      "execution_count": null,
      "outputs": [
        {
          "output_type": "stream",
          "name": "stdout",
          "text": [
            "My favorite book is Harry Potter!\n"
          ]
        }
      ]
    },
    {
      "cell_type": "markdown",
      "source": [
        "Exercise 3: T-Shirt ☑️\n",
        "Write a function called make_shirt() that accepts a size and the text of a message that should be printed on the shirt. The function\n",
        "\n",
        "should print a sentence summarizing the size of the shirt and the message printed on it. Call the function once using positional\n",
        "\n",
        "arguments to make a shirt. Call the function a second time using keyword arguments.\n",
        "\n"
      ],
      "metadata": {
        "id": "neOHMaw7LG6t"
      }
    },
    {
      "cell_type": "code",
      "source": [
        "def make_shirt(msg,size):\n",
        "  print(f\"\\n {msg.title()}, has been added to your shirt with {size} size!\")\n",
        "make_shirt(str(input(\"please type the text you want to print in the shirt: \")),int(input(\"type of the size of text: \")))"
      ],
      "metadata": {
        "colab": {
          "base_uri": "https://localhost:8080/"
        },
        "id": "ImYj-BG_LLvy",
        "outputId": "898ae529-9bdf-400d-f706-92db13c4e099"
      },
      "execution_count": null,
      "outputs": [
        {
          "output_type": "stream",
          "name": "stdout",
          "text": [
            "please type the text you want to print in the shirt: The King Is Back\n",
            "type of the size of text: 32\n",
            "\n",
            " The King Is Back, has been added to your shirt with 32 size!\n"
          ]
        }
      ]
    },
    {
      "cell_type": "markdown",
      "source": [
        "Exercise 4: Large Shirts ☑️\n",
        "Modify the make_shirt() function so that shirts are large by default with a message that reads I love Python. Make a large shirt and a\n",
        "\n",
        "medium shirt with the default message, and a shirt of any size with a different message."
      ],
      "metadata": {
        "id": "kWeHEyFyOelw"
      }
    },
    {
      "cell_type": "code",
      "source": [
        "def make_shirt(size=\"L\",msg=\"\\\"Everyday is a new day to change your life!\\\"\"):\n",
        "  print(f\"\\nThe size of the shirt is {size.title()} and the \"\n",
        "        f\"message printed on the shirt is {msg.title()}.\")\n",
        "  \n",
        "make_shirt()\n",
        "make_shirt(\"m\")\n",
        "make_shirt(size=\"xll\",msg=\"\\\"Be a good person in life!\\\"\")"
      ],
      "metadata": {
        "colab": {
          "base_uri": "https://localhost:8080/"
        },
        "id": "Q8YINg1dOiPV",
        "outputId": "3a90a63d-ba38-4a77-b201-a6fe189d049d"
      },
      "execution_count": null,
      "outputs": [
        {
          "output_type": "stream",
          "name": "stdout",
          "text": [
            "\n",
            "The size of the shirt is L and the message printed on the shirt is \"Everyday Is A New Day To Change Your Life!\".\n",
            "\n",
            "The size of the shirt is M and the message printed on the shirt is \"Everyday Is A New Day To Change Your Life!\".\n",
            "\n",
            "The size of the shirt is Xll and the message printed on the shirt is \"Be A Good Person In Life!\".\n"
          ]
        }
      ]
    },
    {
      "cell_type": "markdown",
      "source": [
        "Exercise 5: Cities\n",
        "Write a function called describe_city() that accepts the name of a city and its country. The function should print a simple sentence,\n",
        "\n",
        "such as Reykjavik is in Iceland. Give the parameter for the country a default value.\n",
        "\n",
        "Call your function for three different cities, at least one of which is not in the default country."
      ],
      "metadata": {
        "id": "APlqdTwzg-Gf"
      }
    },
    {
      "cell_type": "code",
      "source": [
        "def describe_city(city,country=\"Pakistan\"):\n",
        "  print(f\"\\n {city.title()} is in {country.title()}.\")\n",
        "describe_city(\"Peshawar\", \"Pakistan\")\n",
        "describe_city(str(input(\"city name: \")), str(input(\"county name: \")))\n",
        "describe_city(str(input(\"\\n city name: \")), str(input(\"county name: \")))\n",
        "describe_city(str(input(\"\\n city name: \")), str(input(\"county name: \")))"
      ],
      "metadata": {
        "colab": {
          "base_uri": "https://localhost:8080/"
        },
        "id": "vv51qTKLo_Gz",
        "outputId": "ad5a4605-4a3c-4a08-a3b9-d425deb7db52"
      },
      "execution_count": null,
      "outputs": [
        {
          "output_type": "stream",
          "name": "stdout",
          "text": [
            "\n",
            " Peshawar is in Pakistan.\n",
            "city name: Karachi\n",
            "county name: Pakistan\n",
            "\n",
            " Karachi is in Pakistan.\n",
            "\n",
            " city name: Islamabad\n",
            "county name: Pakistan\n",
            "\n",
            " Islamabad is in Pakistan.\n",
            "\n",
            " city name: Lahore\n",
            "county name: Pakistan\n",
            "\n",
            " Lahore is in Pakistan.\n"
          ]
        }
      ]
    }
  ]
}