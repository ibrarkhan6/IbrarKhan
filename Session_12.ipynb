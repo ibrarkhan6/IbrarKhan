{
  "nbformat": 4,
  "nbformat_minor": 0,
  "metadata": {
    "colab": {
      "provenance": [],
      "authorship_tag": "ABX9TyPQS/O3D1S7qO5JjOlbeGrQ",
      "include_colab_link": true
    },
    "kernelspec": {
      "name": "python3",
      "display_name": "Python 3"
    },
    "language_info": {
      "name": "python"
    }
  },
  "cells": [
    {
      "cell_type": "markdown",
      "metadata": {
        "id": "view-in-github",
        "colab_type": "text"
      },
      "source": [
        "<a href=\"https://colab.research.google.com/github/ibrarkhan6/IbrarKhan/blob/main/Session_12.ipynb\" target=\"_parent\"><img src=\"https://colab.research.google.com/assets/colab-badge.svg\" alt=\"Open In Colab\"/></a>"
      ]
    },
    {
      "cell_type": "markdown",
      "source": [
        "Program 1: Write a program to convert kilometer to miles."
      ],
      "metadata": {
        "id": "Ld7lPJkQIJTl"
      }
    },
    {
      "cell_type": "code",
      "execution_count": null,
      "metadata": {
        "colab": {
          "base_uri": "https://localhost:8080/"
        },
        "id": "Ao54p2ESH2jX",
        "outputId": "c0151acc-9a48-437c-9b01-2dbf6a6288bf"
      },
      "outputs": [
        {
          "output_type": "stream",
          "name": "stdout",
          "text": [
            "Enter the users value in km: 1\n",
            "The entered value in miles 0.621371\n"
          ]
        }
      ],
      "source": [
        "#Programe to convert kilometers to miles.\n",
        "\n",
        "km = int(input(\"Enter the users value in km: \"))\n",
        "ratio = 0.621371\n",
        "miles = km * ratio\n",
        "print(\"The entered value in miles\", miles)"
      ]
    },
    {
      "cell_type": "markdown",
      "source": [
        "Program 2: Write a program to convert to convert temperature in Celsius to Fahrenheit."
      ],
      "metadata": {
        "id": "y_pQv-NmMYYg"
      }
    },
    {
      "cell_type": "code",
      "source": [
        "celsius_1 = float(input('Enter the value in celius degree.'))\n",
        "fahrenheit_1 = (celsius_1 * 1.8)+32\n",
        "print('The 2%f celcius is equal to %2f fahrenheit' %(celsius_1,fahrenheit_1))\n",
        "\n"
      ],
      "metadata": {
        "colab": {
          "base_uri": "https://localhost:8080/"
        },
        "id": "tsmMX9OXM67Z",
        "outputId": "ef27d139-6270-47b6-9236-2f356260d98f"
      },
      "execution_count": null,
      "outputs": [
        {
          "output_type": "stream",
          "name": "stdout",
          "text": [
            "Enter the value in celius degree.100\n",
            "The 2100.000000 celcius is equal to 212.000000 fahrenheit\n"
          ]
        }
      ]
    },
    {
      "cell_type": "markdown",
      "source": [
        "Program 3: Write a program to check if a number is positive ,negative or 0."
      ],
      "metadata": {
        "id": "5icVX3e8RO98"
      }
    },
    {
      "cell_type": "code",
      "source": [
        "from __future__ import print_function\n",
        "n = float(input(\"Input a number: \"))\n",
        "if n > 0:\n",
        "  print(\"the number is positive\")\n",
        "\n",
        "elif n == 0:\n",
        "  print(\"It is zero\")\n",
        "else:\n",
        "  print(\"the number is negative\")"
      ],
      "metadata": {
        "colab": {
          "base_uri": "https://localhost:8080/"
        },
        "id": "5mLFzWOTRgbB",
        "outputId": "87ed1a14-adcb-4120-8314-22bfe0b990ec"
      },
      "execution_count": null,
      "outputs": [
        {
          "output_type": "stream",
          "name": "stdout",
          "text": [
            "Input a number: 10\n",
            "the number is positive\n"
          ]
        }
      ]
    },
    {
      "cell_type": "markdown",
      "source": [
        "Program 4:  Write a Program to Check Prime Number\n",
        "\n",
        "Hint: Prime numbers are only divisible by itself and are greater than 1. e.g. 2,5,11,13,19,….."
      ],
      "metadata": {
        "id": "asONPOILTpbH"
      }
    },
    {
      "cell_type": "code",
      "source": [
        "# To take the input from the user\n",
        "num = int(input(\"Enter a number: \"))\n",
        "\n",
        "# prime numbers are greater than 1 \n",
        "if num > 1:\n",
        "  #check for factors\n",
        "  for i in range(2,num):\n",
        "    if (num % i) == 0:\n",
        "      print(num,\"is not a prime number\")\n",
        "      break\n",
        "  else:\n",
        "    print(num,\"is a prime number\")\n",
        "\n",
        " # if input number is less than or equal to 1, it is not a prime\n",
        "else:\n",
        " print(num,\"is not a prime number\")       "
      ],
      "metadata": {
        "colab": {
          "base_uri": "https://localhost:8080/"
        },
        "id": "Wl3aQo09T_p8",
        "outputId": "20c986e1-78ce-414d-ab3f-93ba8e4e41e4"
      },
      "execution_count": null,
      "outputs": [
        {
          "output_type": "stream",
          "name": "stdout",
          "text": [
            "Enter a number: 67\n",
            "67 is a prime number\n"
          ]
        }
      ]
    },
    {
      "cell_type": "markdown",
      "source": [
        "Program 5:  Write a Program to Display the multiplication Table"
      ],
      "metadata": {
        "id": "tW2tPHlwVVE_"
      }
    },
    {
      "cell_type": "code",
      "source": [
        "for i in range (1,11):\n",
        " print(num,'x', i,'=',num*i)"
      ],
      "metadata": {
        "colab": {
          "base_uri": "https://localhost:8080/"
        },
        "id": "KY_5FqGGVW8Y",
        "outputId": "37cfe2ea-81f6-4280-da5c-df4251d0b99e"
      },
      "execution_count": null,
      "outputs": [
        {
          "output_type": "stream",
          "name": "stdout",
          "text": [
            "67 x 1 = 67\n",
            "67 x 2 = 134\n",
            "67 x 3 = 201\n",
            "67 x 4 = 268\n",
            "67 x 5 = 335\n",
            "67 x 6 = 402\n",
            "67 x 7 = 469\n",
            "67 x 8 = 536\n",
            "67 x 9 = 603\n",
            "67 x 10 = 670\n"
          ]
        }
      ]
    },
    {
      "cell_type": "markdown",
      "source": [
        "Program 6:  Write a  Program to Print the Fibonacci series"
      ],
      "metadata": {
        "id": "4d7c8IXEWF4W"
      }
    },
    {
      "cell_type": "code",
      "source": [
        "nterms= int(input('Enter how many terms you want.'))\n",
        "n1, n2 =0, 1\n",
        "count=0\n",
        "if nterms <=0:\n",
        "  print('Please enter a positive integer.')\n",
        "elif nterms == 1:\n",
        "  print('Fibonacci sequence upto',nterms,':')\n",
        "  print(n1)\n",
        "else:\n",
        "  print('Fibonacci sequence')\n",
        "  while count < nterms:\n",
        "    print(n1)\n",
        "    nth = n1+n2\n",
        "    n1=n2\n",
        "    n2=nth\n",
        "    count+=1    "
      ],
      "metadata": {
        "colab": {
          "base_uri": "https://localhost:8080/"
        },
        "id": "9WFAzEWwWrgf",
        "outputId": "d75cbe51-b971-41dc-ea30-607897310f0b"
      },
      "execution_count": null,
      "outputs": [
        {
          "output_type": "stream",
          "name": "stdout",
          "text": [
            "Enter how many terms you want.9\n",
            "Fibonacci sequence\n",
            "0\n",
            "1\n",
            "1\n",
            "2\n",
            "3\n",
            "5\n",
            "8\n",
            "13\n",
            "21\n"
          ]
        }
      ]
    },
    {
      "cell_type": "markdown",
      "source": [
        "Program 7:  Write a program to check if a string is palindrome or not\n",
        "\n",
        "Hint: A palindrome is a string that is the same read forward or backward. For example, \"dad\" is the same in forward or reverse direction. "
      ],
      "metadata": {
        "id": "Bwtsa5-OYe5W"
      }
    },
    {
      "cell_type": "code",
      "source": [
        "my_str = 'aIbohPhobia'\n",
        "my_str = my_str.casefold()\n",
        "rev_str = reversed(my_str)\n",
        "if list (my_str) ==list(rev_str):\n",
        "  print('The string is palindrome')\n",
        "\n",
        "else:\n",
        "  print('The string is not a palidrome')  "
      ],
      "metadata": {
        "colab": {
          "base_uri": "https://localhost:8080/"
        },
        "id": "amjxcs0EYiwH",
        "outputId": "2bc55180-42c8-4913-bbd4-ec127753ae8d"
      },
      "execution_count": null,
      "outputs": [
        {
          "output_type": "stream",
          "name": "stdout",
          "text": [
            "The string is palindrome\n"
          ]
        }
      ]
    },
    {
      "cell_type": "markdown",
      "source": [
        "\n",
        "Program 8:  Write a Program to Merge Two Dictionaries\n",
        "\n",
        "Hints: use ** to unpack dictionaries dictionary 1 and dictionary 2. Then, the dictionaries are merged by placing them inside {}\n",
        "\n",
        " "
      ],
      "metadata": {
        "id": "ht5vGh3_Z8De"
      }
    },
    {
      "cell_type": "code",
      "source": [
        "# Python code to merge dict using update() method\n",
        "dict1 = {'a': 10, 'b': 8}\n",
        "dict2 = {'d': 6, 'c': 4}\n",
        "print({**dict1,**dict2})\n"
      ],
      "metadata": {
        "colab": {
          "base_uri": "https://localhost:8080/"
        },
        "id": "EYO_upGJaBSy",
        "outputId": "fbb44964-1121-4898-cf55-c0db0e36aaba"
      },
      "execution_count": null,
      "outputs": [
        {
          "output_type": "stream",
          "name": "stdout",
          "text": [
            "{'a': 10, 'b': 8, 'd': 6, 'c': 4}\n"
          ]
        }
      ]
    },
    {
      "cell_type": "markdown",
      "source": [
        "Program 9:  Write a  program to Count the Number of Occurrence of a Character in String\n",
        "\n"
      ],
      "metadata": {
        "id": "PFNLIgqpaiNl"
      }
    },
    {
      "cell_type": "code",
      "source": [
        "count = 0\n",
        "my_string = 'Programs'\n",
        "my_char ='r'\n",
        "for i in my_string:\n",
        "  if i == my_char:\n",
        "    count+=1\n",
        "    print(count)"
      ],
      "metadata": {
        "colab": {
          "base_uri": "https://localhost:8080/"
        },
        "id": "L1_sU5a2dc90",
        "outputId": "41f16257-6144-4e83-e1e6-cd2d6c9b3456"
      },
      "execution_count": null,
      "outputs": [
        {
          "output_type": "stream",
          "name": "stdout",
          "text": [
            "1\n",
            "2\n"
          ]
        }
      ]
    },
    {
      "cell_type": "markdown",
      "source": [
        "Program 10:  Write a program to find the largest number among the three input numbers\n",
        "\n",
        " "
      ],
      "metadata": {
        "id": "vOV4i3i3dxmf"
      }
    },
    {
      "cell_type": "code",
      "source": [
        "num1= 15\n",
        "num2= 20\n",
        "num3= 10\n",
        "if (num1 >= num2) and (num1 >= num3):\n",
        "  largest= num1\n",
        "  print('The largest number is',largest)\n",
        "elif (num2 >= num1) and (num2 >= num3):\n",
        "  largest= num2\n",
        "  print('The largest number is',largest)\n",
        "else:\n",
        "  largest = num3\n",
        "  print('The largest number is',largest)\n"
      ],
      "metadata": {
        "colab": {
          "base_uri": "https://localhost:8080/"
        },
        "id": "d5wIHgafev4j",
        "outputId": "dd102527-fa80-4596-cc84-005bf28c39a4"
      },
      "execution_count": null,
      "outputs": [
        {
          "output_type": "stream",
          "name": "stdout",
          "text": [
            "The largest number is 20\n"
          ]
        }
      ]
    }
  ]
}