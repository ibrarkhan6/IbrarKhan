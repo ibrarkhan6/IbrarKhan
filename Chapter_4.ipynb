{
  "nbformat": 4,
  "nbformat_minor": 0,
  "metadata": {
    "colab": {
      "provenance": [],
      "collapsed_sections": [],
      "authorship_tag": "ABX9TyNPK0ac4VSGyEb3ZinHA4rs",
      "include_colab_link": true
    },
    "kernelspec": {
      "name": "python3",
      "display_name": "Python 3"
    },
    "language_info": {
      "name": "python"
    }
  },
  "cells": [
    {
      "cell_type": "markdown",
      "metadata": {
        "id": "view-in-github",
        "colab_type": "text"
      },
      "source": [
        "<a href=\"https://colab.research.google.com/github/ibrarkhan6/IbrarKhan/blob/main/Chapter_4.ipynb\" target=\"_parent\"><img src=\"https://colab.research.google.com/assets/colab-badge.svg\" alt=\"Open In Colab\"/></a>"
      ]
    },
    {
      "cell_type": "markdown",
      "source": [
        "Chapter 4 Exercises and Examples\n",
        "Control Flow"
      ],
      "metadata": {
        "id": "97dTf9JET0WO"
      }
    },
    {
      "cell_type": "markdown",
      "source": [
        "Exercise 1: Alien Colors #1 ☑️\n",
        "Imagine an alien was just shot down in a game. Create a variable called alien_color and assign it a value of 'green', 'yellow', or 'red'.\n",
        "\n",
        "•Write an if statement to test whether the alien’s color is green. If it is, print a message that the player just earned 5 points.\n",
        "\n",
        "•Write one version of this program that passes the if test and another that fails. (The version that fails will have no output.)\n",
        "\n",
        "   "
      ],
      "metadata": {
        "id": "1LAc5KQTyZtF"
      }
    },
    {
      "cell_type": "code",
      "source": [
        " #  In this exercise I have created a variable called alien_color and assign I have assign a value of a green,yellow and red.\n",
        " # Here I have test the aliens color is green and I have earned 5 points.\n",
        "alien_color=\"green\"\n",
        "\n",
        "if alien_color == \"green\":        \n",
        "  print(\"You earned 5 points, \")      "
      ],
      "metadata": {
        "colab": {
          "base_uri": "https://localhost:8080/"
        },
        "id": "CKRbY2qzyfN6",
        "outputId": "7edc526c-58ee-432c-81a9-9c3e2d9180e5"
      },
      "execution_count": null,
      "outputs": [
        {
          "output_type": "stream",
          "name": "stdout",
          "text": [
            "You earned 5 points, \n"
          ]
        }
      ]
    },
    {
      "cell_type": "code",
      "source": [
        "#In this excercise I have created a variable called alien_color and I have assign here red and green color.\n",
        "alien_color = \"red\"        \n",
        "\n",
        "if alien_color ==\"green\":\n",
        "  print (\"You earned 5 points.\")\n"
      ],
      "metadata": {
        "id": "UViIX69-yrD2"
      },
      "execution_count": null,
      "outputs": []
    },
    {
      "cell_type": "markdown",
      "source": [
        "Exercise 2: Alien Colors #2 ☑️ Choose a color for an alien as you did in Exercise 5-3, and write an if-else chain.\n",
        "\n",
        "•If the alien’s color is green, print a statement that the player just earned 5 points for shooting the alien.\n",
        "\n",
        "•If the alien’s color isn’t green, print a statement that the player just earned 10 points.\n",
        "\n",
        "•Write one version of this program that runs the if block and another that runs the else block."
      ],
      "metadata": {
        "id": "YffPRgqSy-m2"
      }
    },
    {
      "cell_type": "code",
      "source": [
        "#In this exercise I have used if-else chain and wrote  one version of this proram that runs the if block\n",
        "#And another that runs the else block.\n",
        "alien_color = 'white'\n",
        "\n",
        "if alien_color == 'white':\n",
        "  print('Congratulations, you have earned 5 points.')\n",
        "\n",
        "else:                                                      \n",
        "  print('Congratulations, you have earned 10 points.')\n",
        "\n",
        "# in this section, the else statement is true\n",
        "alien_color = 'pink'\n",
        "\n",
        "if alien_color =='white':\n",
        "  print('Congratulations, you have earned 5 points.')\n",
        "\n",
        "else:\n",
        "  print('Congratulations, you have earned 10 points.')\n"
      ],
      "metadata": {
        "colab": {
          "base_uri": "https://localhost:8080/"
        },
        "id": "sdUWZUkizA0g",
        "outputId": "03635331-3846-42dc-fce4-a1deab4c4bc6"
      },
      "execution_count": null,
      "outputs": [
        {
          "output_type": "stream",
          "name": "stdout",
          "text": [
            "Congratulations, you have earned 5 points.\n",
            "Congratulations, you have earned 10 points.\n"
          ]
        }
      ]
    },
    {
      "cell_type": "markdown",
      "source": [
        "Exercise 3: Alien Colors #3 ☑️ Turn your if-else chain from Exercise 5-4 into an if-elifelse chain.\n",
        "\n",
        "• If the alien is green, print a message that the player earned 5 points.\n",
        "\n",
        "• If the alien is yellow, print a message that the player earned 10 points.\n",
        "\n",
        "• If the alien is red, print a message that the player earned 15 points.\n",
        "\n",
        "• Write three versions of this program, making sure each message is printed for the appropriate color alien."
      ],
      "metadata": {
        "id": "B_NnJrJ5zPT2"
      }
    },
    {
      "cell_type": "code",
      "source": [
        " #In this program I have used if-else chain and if-elifeslse chain and each color have different points.\n",
        " # Such as green has 5 points,yellow as 10 points and red has 15 points if results are shown.\n",
        "alien_color =\"yellow\"\n",
        "\n",
        "if alien_color ==\"green\":\n",
        "  print(\" you earned 5 points.\")      \n",
        "\n",
        "elif alien_color ==\"yellow\":          \n",
        "  print(\"you earned 10 points.\")\n",
        "else:\n",
        "  print(\"you earned 15 points.\")\n"
      ],
      "metadata": {
        "colab": {
          "base_uri": "https://localhost:8080/"
        },
        "id": "TzDBkhonzQBL",
        "outputId": "49700076-25cf-44a6-dfaf-e60277841d4c"
      },
      "execution_count": null,
      "outputs": [
        {
          "output_type": "stream",
          "name": "stdout",
          "text": [
            "you earned 10 points.\n"
          ]
        }
      ]
    },
    {
      "cell_type": "markdown",
      "source": [
        "Exercise 4: Stages of Life ☑️\n",
        "Write an if-elif-else chain that determines a person’s stage of life. Set a value for the variable age, and then:\n",
        "\n",
        "•If the person is less than 2 years old, print a message that the person is a baby.\n",
        "\n",
        "•If the person is at least 2 years old but less than 4, print a message that the person is a toddler.\n",
        "\n",
        "•If the person is at least 4 years old but less than 13, print a message that the person is a kid.\n",
        "\n",
        "•If the person is at least 13 years old but less than 20, print a message that the person is a teenager.\n",
        "\n",
        "•If the person is at least 20 years old but less than 65, print a message that the person is an adult.\n",
        "\n",
        "•If the person is age 65 or older, print a message that the person is an elder."
      ],
      "metadata": {
        "id": "eKvzx8diz3vi"
      }
    },
    {
      "cell_type": "code",
      "source": [
        " #In this excercise I have used if-elif-else chain that determines a person’s stage of life.\n",
        " #And setted a value for the variable age accoridng to the age of person.\n",
        "print(\"Enter your age = \")\n",
        "age = int(input())\n",
        "\n",
        "if age < 2:\n",
        "  print(\"You are an infant\")\n",
        "\n",
        "elif age == 2 or age < 4:\n",
        "  print(\"You are a toddler\")   \n",
        "\n",
        "elif age == 4 or age < 13:\n",
        "  print(\"you are a kid\")\n",
        "           \n",
        "elif age == 13 or age < 20:\n",
        "  print(\"you are a teenager\")\n",
        "\n",
        "elif age == 20 or age < 65:\n",
        "  print(\"you are an adult\")\n",
        "\n",
        "else:\n",
        "  print(\" you are an elder\")    "
      ],
      "metadata": {
        "colab": {
          "base_uri": "https://localhost:8080/"
        },
        "id": "RvkOEwnQz5zh",
        "outputId": "d6e28a78-5ce0-4984-b1b3-81704d2c7604"
      },
      "execution_count": null,
      "outputs": [
        {
          "output_type": "stream",
          "name": "stdout",
          "text": [
            "Enter your age = \n",
            "19\n",
            "you are a teenager\n"
          ]
        }
      ]
    },
    {
      "cell_type": "markdown",
      "source": [
        "Exercise 5: Favorite Fruit ☑️\n",
        "Make a list of your favorite fruits, and then write a series of independent if statements that check for certain fruits in your list.\n",
        "\n",
        "•Make a list of your three favorite fruits and call it favorite_fruits.\n",
        "\n",
        "•Write five if statements. Each should check whether a certain kind of fruit is in your list. If the fruit is in your list, the if block\n",
        "\n",
        "should print a statement,such as You really like bananas!"
      ],
      "metadata": {
        "id": "e5I16urGwWqv"
      }
    },
    {
      "cell_type": "code",
      "source": [
        "#In this excercise I have used and wrote series of independent if statements that  check for certain fruits in my list.\n",
        "#And statements and results  its includes such as mentioned below 'Do you really like strawberries.'\n",
        "\n",
        "favorite_fruits = ['watermelon', 'orange','mango']\n",
        "\n",
        "if 'watermelon' in favorite_fruits:\n",
        "  print('Do you really like watermelons.')\n",
        "\n",
        "if 'orange' in favorite_fruits:     \n",
        "  print('Do you really like oranges.')  \n",
        "\n",
        "if 'mango' in favorite_fruits:\n",
        "  print('Do you really like mangoes.')\n",
        "\n",
        "if 'strawberry' in favorite_fruits:\n",
        "  print('Do you really like strawberries.')\n",
        "\n",
        "if 'apple' in favorite_fruits:\n",
        "  print('Do you really like apples.')"
      ],
      "metadata": {
        "id": "2RvPTImxwayI",
        "colab": {
          "base_uri": "https://localhost:8080/"
        },
        "outputId": "3345456e-f4d5-48ee-f06c-264e1513fdc7"
      },
      "execution_count": null,
      "outputs": [
        {
          "output_type": "stream",
          "name": "stdout",
          "text": [
            "Do you really like watermelons.\n",
            "Do you really like oranges.\n",
            "Do you really like mangoes.\n"
          ]
        }
      ]
    },
    {
      "cell_type": "markdown",
      "source": [
        "Examples\n"
      ],
      "metadata": {
        "id": "yo0McEuL2lDV"
      }
    },
    {
      "cell_type": "markdown",
      "source": [
        "Programe 1"
      ],
      "metadata": {
        "id": "fcq_ROVL2CtS"
      }
    },
    {
      "cell_type": "code",
      "source": [
        "  x=30\n",
        "  if x>0:\n",
        "    print(x, ' is positive')\n"
      ],
      "metadata": {
        "colab": {
          "base_uri": "https://localhost:8080/"
        },
        "id": "gravROrj2FLE",
        "outputId": "af868581-507f-46f1-fbf3-02bd7bea99e4"
      },
      "execution_count": null,
      "outputs": [
        {
          "output_type": "stream",
          "name": "stdout",
          "text": [
            "30  is positive\n"
          ]
        }
      ]
    },
    {
      "cell_type": "code",
      "source": [
        "  y=7\n",
        "  if x>7:\n",
        "    print(y, 'is positive')"
      ],
      "metadata": {
        "colab": {
          "base_uri": "https://localhost:8080/"
        },
        "id": "FUs4ndcI2NR9",
        "outputId": "0fdde269-479f-4984-b0b5-695318b4bd13"
      },
      "execution_count": null,
      "outputs": [
        {
          "output_type": "stream",
          "name": "stdout",
          "text": [
            "7 is positive\n"
          ]
        }
      ]
    },
    {
      "cell_type": "markdown",
      "source": [
        "Programe 2"
      ],
      "metadata": {
        "id": "wKYVu5yl2PCB"
      }
    },
    {
      "cell_type": "code",
      "source": [
        "print(\"1st number: \")\n",
        "number1=int(input())\n",
        "print(\"2nd number: \")\n",
        "number2=int(input())\n",
        "\n",
        "if number1<number2:\n",
        "  print(number1,\"is smaller than the second number\")"
      ],
      "metadata": {
        "colab": {
          "base_uri": "https://localhost:8080/"
        },
        "id": "TRx0cII12RxK",
        "outputId": "7fbf628c-259c-4a17-ddb9-28927189a98b"
      },
      "execution_count": null,
      "outputs": [
        {
          "output_type": "stream",
          "name": "stdout",
          "text": [
            "1st number: \n",
            "15\n",
            "2nd number: \n",
            "25\n",
            "15 is smaller than the second number\n"
          ]
        }
      ]
    },
    {
      "cell_type": "markdown",
      "source": [
        "Programe 3"
      ],
      "metadata": {
        "id": "WZMkyrRQ9A_y"
      }
    },
    {
      "cell_type": "code",
      "source": [
        "print('enter 1st number:')\n",
        "x=int(input())\n",
        "print('enter 2nd number:')\n",
        "y=int(input())\n",
        "if x<y:\n",
        " print(x,\"is smaller than\",y)\n",
        "else:\n",
        " print(y,\"is smaller than\",x)"
      ],
      "metadata": {
        "colab": {
          "base_uri": "https://localhost:8080/"
        },
        "id": "534OidnY9Ebi",
        "outputId": "fe7897f4-154d-4d07-bb0f-e021ea253e7b"
      },
      "execution_count": null,
      "outputs": [
        {
          "output_type": "stream",
          "name": "stdout",
          "text": [
            "enter 1st number:\n",
            "8\n",
            "enter 2nd number:\n",
            "56\n",
            "8 is smaller than 56\n"
          ]
        }
      ]
    },
    {
      "cell_type": "markdown",
      "source": [
        "Programe 5"
      ],
      "metadata": {
        "id": "ZBvp7QXoEyiQ"
      }
    },
    {
      "cell_type": "code",
      "source": [
        "print('Select country: US/Australia')\n",
        "country=str(input())\n",
        "print('Enter number of shipments')\n",
        "shipment=int(input())\n",
        "\n",
        "if country==\"US\":\n",
        "  if shipment<50:\n",
        "    print('Shipment cost is $50')\n",
        "  elif shipment>50:\n",
        "    print('Shipment cost is $25')\n",
        "  else:\n",
        "    print('Please contact customer support.')\n",
        "else:\n",
        " if country==\"Australia\":\n",
        "  if shipment<=150:\n",
        "   print('Shipping cost is $100')\n",
        "  elif shipment>150:\n",
        "   print('Shipment cost is $15')\n",
        "  else:\n",
        "   print('Please contact customer support')"
      ],
      "metadata": {
        "colab": {
          "base_uri": "https://localhost:8080/"
        },
        "id": "skbdF46IFEj-",
        "outputId": "23cb5ece-7f17-4172-bf42-217d10705ed9"
      },
      "execution_count": null,
      "outputs": [
        {
          "output_type": "stream",
          "name": "stdout",
          "text": [
            "Select country: US/Australia\n",
            "US\n",
            "Enter number of shipments\n",
            "567\n",
            "Shipment cost is $25\n"
          ]
        }
      ]
    },
    {
      "cell_type": "markdown",
      "source": [
        "Program 6 Create a list of flowers comprising 3 flowers\n"
      ],
      "metadata": {
        "id": "3hcvXQuKPdY-"
      }
    },
    {
      "cell_type": "code",
      "source": [
        "flowers=  [\"Lilly\", \"Sunflower\",\"Jasmine\"]\n",
        "print(\"Lilly,Sunflower,Jasmine\")\n",
        "print(flowers)\n",
        "print(flowers[0])#prints Lilly\n",
        "print(flowers[1])#prints Sunflower\n",
        "print(flowers[2])#prints Jasmine\n",
        "\n",
        "flowers= [\"Lilly\", \"Sunflower\",\"Jasmine\"]\n",
        "flowers.append(\"rose\")\n",
        "print(flowers)\n",
        "\n",
        "flowers= [\"Lilly\", \"Sunflower\",\"Jasmine\"]\n",
        "flowers.insert(3,\"rose\")\n",
        "flowers.insert(0,\"lavender\")\n",
        "flowers.insert(1, \"lotus\")\n",
        "print(flowers)"
      ],
      "metadata": {
        "colab": {
          "base_uri": "https://localhost:8080/"
        },
        "id": "5IyUrInBPfcT",
        "outputId": "259d9a41-7e92-4685-8515-ccfe022e6b08"
      },
      "execution_count": null,
      "outputs": [
        {
          "output_type": "stream",
          "name": "stdout",
          "text": [
            "Lilly,Sunflower,Jasmine\n",
            "['Lilly', 'Sunflower', 'Jasmine']\n",
            "Lilly\n",
            "Sunflower\n",
            "Jasmine\n",
            "['Lilly', 'Sunflower', 'Jasmine', 'rose']\n",
            "['lavender', 'lotus', 'Lilly', 'Sunflower', 'Jasmine', 'rose']\n"
          ]
        }
      ]
    },
    {
      "cell_type": "code",
      "source": [
        "print(flowers)\n",
        "flowers.remove(\"Lilly\")\n",
        "print(flowers)"
      ],
      "metadata": {
        "colab": {
          "base_uri": "https://localhost:8080/"
        },
        "id": "wohvyZBsTCU4",
        "outputId": "3cedb808-c406-45ca-8292-2fac727de72e"
      },
      "execution_count": null,
      "outputs": [
        {
          "output_type": "stream",
          "name": "stdout",
          "text": [
            "['lavender', 'lotus', 'Lilly', 'Sunflower', 'Jasmine', 'rose']\n",
            "['lavender', 'lotus', 'Sunflower', 'Jasmine', 'rose']\n"
          ]
        }
      ]
    },
    {
      "cell_type": "code",
      "source": [
        "popped=flowers.pop()\n",
        "print(flowers)\n"
      ],
      "metadata": {
        "colab": {
          "base_uri": "https://localhost:8080/"
        },
        "id": "yG2rPKPwTZGj",
        "outputId": "690754fa-b7e5-404d-86d1-80ac5862e3f1"
      },
      "execution_count": null,
      "outputs": [
        {
          "output_type": "stream",
          "name": "stdout",
          "text": [
            "['lavender', 'lotus', 'Sunflower', 'Jasmine']\n"
          ]
        }
      ]
    },
    {
      "cell_type": "code",
      "source": [
        "print(popped)\n"
      ],
      "metadata": {
        "colab": {
          "base_uri": "https://localhost:8080/"
        },
        "id": "zFcmVoVfTs7m",
        "outputId": "74b095eb-3fed-4df9-fd48-cad867b129a3"
      },
      "execution_count": null,
      "outputs": [
        {
          "output_type": "stream",
          "name": "stdout",
          "text": [
            "rose\n"
          ]
        }
      ]
    },
    {
      "cell_type": "code",
      "source": [
        "print(flowers)\n",
        "flowers.sort()\n",
        "print(flowers)"
      ],
      "metadata": {
        "colab": {
          "base_uri": "https://localhost:8080/"
        },
        "id": "gm6XTMXpT4Z8",
        "outputId": "2ec67acd-75a7-405c-c5c5-85193727f2c1"
      },
      "execution_count": null,
      "outputs": [
        {
          "output_type": "stream",
          "name": "stdout",
          "text": [
            "['lavender', 'lotus', 'Sunflower', 'Jasmine']\n",
            "['Jasmine', 'Sunflower', 'lavender', 'lotus']\n"
          ]
        }
      ]
    },
    {
      "cell_type": "code",
      "source": [
        "print(flowers)\n",
        "del flowers[0:5]"
      ],
      "metadata": {
        "colab": {
          "base_uri": "https://localhost:8080/"
        },
        "id": "owAHeh5tUPUx",
        "outputId": "6e73ed24-1cae-4d8e-8737-fcd8c439da29"
      },
      "execution_count": null,
      "outputs": [
        {
          "output_type": "stream",
          "name": "stdout",
          "text": [
            "[]\n"
          ]
        }
      ]
    },
    {
      "cell_type": "code",
      "source": [
        "print(flowers)\n",
        "flowers.reverse()\n",
        "print(flowers)"
      ],
      "metadata": {
        "colab": {
          "base_uri": "https://localhost:8080/"
        },
        "id": "Ctxfhh4WWKJy",
        "outputId": "6447111e-7295-4e8e-999a-b0b043622cfa"
      },
      "execution_count": null,
      "outputs": [
        {
          "output_type": "stream",
          "name": "stdout",
          "text": [
            "[]\n",
            "[]\n"
          ]
        }
      ]
    },
    {
      "cell_type": "code",
      "source": [
        "student={'Name':'Benjamin Nine' ,'id':'9','Course':'Creative Computing'}\n",
        "print(student)\n",
        "print(student[\"Name\"])\n",
        "print(student[\"id\"])\n",
        "print(student[\"Course\"])"
      ],
      "metadata": {
        "colab": {
          "base_uri": "https://localhost:8080/"
        },
        "id": "wj8S8UMJWT6I",
        "outputId": "7ee1d429-29f9-454a-c395-80d8db2f5c6a"
      },
      "execution_count": null,
      "outputs": [
        {
          "output_type": "stream",
          "name": "stdout",
          "text": [
            "{'Name': 'Benjamin Nine', 'id': '9', 'Course': 'Creative Computing'}\n",
            "Benjamin Nine\n",
            "9\n",
            "Creative Computing\n"
          ]
        }
      ]
    },
    {
      "cell_type": "code",
      "source": [],
      "metadata": {
        "id": "pK6gnqUtcEQA"
      },
      "execution_count": null,
      "outputs": []
    }
  ]
}