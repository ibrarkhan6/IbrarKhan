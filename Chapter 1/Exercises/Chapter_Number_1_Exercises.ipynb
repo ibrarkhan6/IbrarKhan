{
  "nbformat": 4,
  "nbformat_minor": 0,
  "metadata": {
    "colab": {
      "provenance": [],
      "collapsed_sections": [],
      "authorship_tag": "ABX9TyMuacXMFXF7qhU80fVA3P+2",
      "include_colab_link": true
    },
    "kernelspec": {
      "name": "python3",
      "display_name": "Python 3"
    },
    "language_info": {
      "name": "python"
    }
  },
  "cells": [
    {
      "cell_type": "markdown",
      "metadata": {
        "id": "view-in-github",
        "colab_type": "text"
      },
      "source": [
        "<a href=\"https://colab.research.google.com/github/ibrarkhan6/IbrarKhan/blob/main/Chapter%201/Exercises/Chapter_Number_1_Exercises.ipynb\" target=\"_parent\"><img src=\"https://colab.research.google.com/assets/colab-badge.svg\" alt=\"Open In Colab\"/></a>"
      ]
    },
    {
      "cell_type": "markdown",
      "source": [
        "**Chapter 1 Excercises **\n",
        "Getting Started With Python\n"
      ],
      "metadata": {
        "id": "7h_ze8MPUb9g"
      }
    },
    {
      "cell_type": "markdown",
      "source": [
        "Exercise 1: Print Strings ☑️\n",
        "Write a Python program to print the following string in a specific format.\n",
        "\n",
        "Twinkle, twinkle, little star, How I wonder what you are! Up above the world so high, Like a diamond in the sky. Twinkle, twinkle, little star, How I wonder what you are"
      ],
      "metadata": {
        "id": "s3UHdlVUFDKq"
      }
    },
    {
      "cell_type": "markdown",
      "source": [
        "Chapter 1 Excercise 1\n"
      ],
      "metadata": {
        "id": "TFxfMMe7U4pN"
      }
    },
    {
      "cell_type": "code",
      "execution_count": null,
      "metadata": {
        "colab": {
          "base_uri": "https://localhost:8080/"
        },
        "id": "V_EsxKwyrSvH",
        "outputId": "301c63a9-9b2a-4f29-e944-eab1ae1411a3"
      },
      "outputs": [
        {
          "output_type": "stream",
          "name": "stdout",
          "text": [
            "Im a Little Teapot\n",
            "Im a Little Teapot\n",
            "Short and stout\n",
            "Here is my handle\n",
            "Here is my spout\n",
            "When I get all steam up\n",
            "I just shout\n",
            "Tip me over pour me out\n"
          ]
        }
      ],
      "source": [
        "print(\"Im a Little Teapot\")\n",
        "print(\"Im a Little Teapot\")\n",
        "print(\"Short and stout\")\n",
        "print(\"Here is my handle\")\n",
        "print(\"Here is my spout\")\n",
        "print(\"When I get all steam up\")\n",
        "print(\"I just shout\")\n",
        "print(\"Tip me over pour me out\")\n",
        "\n",
        "\n"
      ]
    },
    {
      "cell_type": "markdown",
      "source": [
        "Exercise 2: Print the Version of Python ☑️\n",
        "Write a Python program to get the Python version you are using."
      ],
      "metadata": {
        "id": "kPHAXtXRFYIO"
      }
    },
    {
      "cell_type": "markdown",
      "source": [
        "Chapter 1 Excercise 2 "
      ],
      "metadata": {
        "id": "1hMFDtTCVBOD"
      }
    },
    {
      "cell_type": "code",
      "source": [
        "import sys\n",
        "print(\"Phython version\")\n",
        "print(sys.version)\n"
      ],
      "metadata": {
        "colab": {
          "base_uri": "https://localhost:8080/"
        },
        "id": "3HIrRv78zs9K",
        "outputId": "58d3f162-c5fe-494c-8e84-318c9459a59c"
      },
      "execution_count": null,
      "outputs": [
        {
          "output_type": "stream",
          "name": "stdout",
          "text": [
            "Phython version\n",
            "3.7.14 (default, Sep  8 2022, 00:06:44) \n",
            "[GCC 7.5.0]\n"
          ]
        }
      ]
    },
    {
      "cell_type": "code",
      "source": [
        "print(\"version info\")\n",
        "print(sys.version_info)"
      ],
      "metadata": {
        "colab": {
          "base_uri": "https://localhost:8080/"
        },
        "id": "oEniW45d0RVC",
        "outputId": "394355f1-4ccf-4ae1-fccf-f5045cc37eee"
      },
      "execution_count": null,
      "outputs": [
        {
          "output_type": "stream",
          "name": "stdout",
          "text": [
            "version info\n",
            "sys.version_info(major=3, minor=7, micro=14, releaselevel='final', serial=0)\n"
          ]
        }
      ]
    },
    {
      "cell_type": "markdown",
      "source": [
        "     \n",
        "\n",
        "Exercise 3: Print date and Time ☑️\n",
        "Write a Python program to display the current date and time."
      ],
      "metadata": {
        "id": "N4kLK_PvFgqL"
      }
    },
    {
      "cell_type": "markdown",
      "source": [
        "Chapter 1 Excercise 3"
      ],
      "metadata": {
        "id": "iwlfPNrkVNjV"
      }
    },
    {
      "cell_type": "code",
      "source": [
        "from datetime import date\n",
        "\n",
        "today= date.today()\n",
        "print(\"Today's  date\",today)"
      ],
      "metadata": {
        "colab": {
          "base_uri": "https://localhost:8080/"
        },
        "id": "NvF7E0V-1hG7",
        "outputId": "20f61d1b-04ed-42db-e9c3-064037368457"
      },
      "execution_count": null,
      "outputs": [
        {
          "output_type": "stream",
          "name": "stdout",
          "text": [
            "Today's  date 2022-09-29\n"
          ]
        }
      ]
    },
    {
      "cell_type": "code",
      "source": [
        "from datetime import date\n",
        "\n",
        "today=date.today()\n",
        "\n",
        "# dd/mm/yy\n",
        "d1= today.strftime(\"%d/%m/%y\")\n",
        "print(\"d1=\",d1)"
      ],
      "metadata": {
        "colab": {
          "base_uri": "https://localhost:8080/"
        },
        "id": "McxA3VgV2krI",
        "outputId": "c2455057-e819-4b44-c068-9bf595283b93"
      },
      "execution_count": null,
      "outputs": [
        {
          "output_type": "stream",
          "name": "stdout",
          "text": [
            "d1= 29/09/22\n"
          ]
        }
      ]
    },
    {
      "cell_type": "code",
      "source": [
        "# Textual month, day and year\n",
        "d2=today.strftime(\"%B%d,%Y\")\n",
        "print(\"d2=\",d2)"
      ],
      "metadata": {
        "colab": {
          "base_uri": "https://localhost:8080/"
        },
        "id": "0HB4qgcQ3sny",
        "outputId": "0f40aa77-11cd-4c22-93fb-897773c53f66"
      },
      "execution_count": null,
      "outputs": [
        {
          "output_type": "stream",
          "name": "stdout",
          "text": [
            "d2= September29,2022\n"
          ]
        }
      ]
    },
    {
      "cell_type": "code",
      "source": [
        "from datetime import datetime\n",
        "\n",
        "# datetime object containing current date and time\n",
        "now= datetime.now()\n"
      ],
      "metadata": {
        "id": "uWbHHv7o4TGw"
      },
      "execution_count": null,
      "outputs": []
    },
    {
      "cell_type": "markdown",
      "source": [
        "Exercise 4: Strings Concatination ☑️\n",
        "Write three strings in different variables and print the output as one string."
      ],
      "metadata": {
        "id": "4AunmtDsFmvo"
      }
    },
    {
      "cell_type": "markdown",
      "source": [
        "Chapter 1 Excercise 4\n"
      ],
      "metadata": {
        "id": "hcLZ_RCXVcJK"
      }
    },
    {
      "cell_type": "code",
      "source": [
        "#intialising variable diretcly\n",
        "\n",
        "a = 5\n",
        "print(a) # print direct value\n",
        "\n",
        "# printing value of a with text\n",
        "\n",
        "print (\"The value of a is: \"+str(a))"
      ],
      "metadata": {
        "colab": {
          "base_uri": "https://localhost:8080/"
        },
        "id": "YzRCpFp3GNYj",
        "outputId": "9bf72785-0777-4336-8398-4cc614132fc4"
      },
      "execution_count": null,
      "outputs": [
        {
          "output_type": "stream",
          "name": "stdout",
          "text": [
            "5\n",
            "The value of a is: 5\n"
          ]
        }
      ]
    },
    {
      "cell_type": "code",
      "source": [
        "a,b=100,200\n",
        "print(a) #100\n",
        "print(b) #200"
      ],
      "metadata": {
        "colab": {
          "base_uri": "https://localhost:8080/"
        },
        "id": "27ZWPqi5G_0j",
        "outputId": "69e22341-676d-4971-9833-c0c05a19335e"
      },
      "execution_count": null,
      "outputs": [
        {
          "output_type": "stream",
          "name": "stdout",
          "text": [
            "100\n",
            "200\n"
          ]
        }
      ]
    },
    {
      "cell_type": "markdown",
      "source": [
        "Exercise 5: Compute area of Circle ☑️\n",
        "Write a Python program which accepts the radius of a circle from the user and compute the area.\n",
        "\n",
        "     "
      ],
      "metadata": {
        "id": "4hhbUHjVFvwY"
      }
    },
    {
      "cell_type": "markdown",
      "source": [
        "Chapter 1 Excercise 5"
      ],
      "metadata": {
        "id": "BssvP4dLVoSI"
      }
    },
    {
      "cell_type": "code",
      "source": [
        "PI=3.142\n",
        "print('Enter the radius of circle:')\n",
        "r=int(input())\n",
        "print('The area of the circle with radius '+str(r)+' units=: '+str(PI*r**2)+' sq units')"
      ],
      "metadata": {
        "id": "3lw2vW3aKA-X",
        "colab": {
          "base_uri": "https://localhost:8080/"
        },
        "outputId": "eb1a3466-d92c-4fed-a3fd-524ded801967"
      },
      "execution_count": null,
      "outputs": [
        {
          "output_type": "stream",
          "name": "stdout",
          "text": [
            "Enter the radius of circle:\n",
            "14\n",
            "The area of the circle with radius 14 units=: 615.832 sq units\n"
          ]
        }
      ]
    }
  ]
}