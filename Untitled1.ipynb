{
  "nbformat": 4,
  "nbformat_minor": 0,
  "metadata": {
    "colab": {
      "provenance": [],
      "authorship_tag": "ABX9TyOYQdI/YOf2fNvPDhbQwe5d",
      "include_colab_link": true
    },
    "kernelspec": {
      "name": "python3",
      "display_name": "Python 3"
    },
    "language_info": {
      "name": "python"
    }
  },
  "cells": [
    {
      "cell_type": "markdown",
      "metadata": {
        "id": "view-in-github",
        "colab_type": "text"
      },
      "source": [
        "<a href=\"https://colab.research.google.com/github/ibrarkhan6/IbrarKhan/blob/main/Untitled1.ipynb\" target=\"_parent\"><img src=\"https://colab.research.google.com/assets/colab-badge.svg\" alt=\"Open In Colab\"/></a>"
      ]
    },
    {
      "cell_type": "code",
      "execution_count": 1,
      "metadata": {
        "colab": {
          "base_uri": "https://localhost:8080/"
        },
        "id": "V_EsxKwyrSvH",
        "outputId": "301c63a9-9b2a-4f29-e944-eab1ae1411a3"
      },
      "outputs": [
        {
          "output_type": "stream",
          "name": "stdout",
          "text": [
            "Im a Little Teapot\n",
            "Im a Little Teapot\n",
            "Short and stout\n",
            "Here is my handle\n",
            "Here is my spout\n",
            "When I get all steam up\n",
            "I just shout\n",
            "Tip me over pour me out\n"
          ]
        }
      ],
      "source": [
        "print(\"Im a Little Teapot\")\n",
        "print(\"Im a Little Teapot\")\n",
        "print(\"Short and stout\")\n",
        "print(\"Here is my handle\")\n",
        "print(\"Here is my spout\")\n",
        "print(\"When I get all steam up\")\n",
        "print(\"I just shout\")\n",
        "print(\"Tip me over pour me out\")\n",
        "\n",
        "\n"
      ]
    },
    {
      "cell_type": "code",
      "source": [
        "import sys\n",
        "print(\"Phython version\")\n",
        "print(sys.version)\n"
      ],
      "metadata": {
        "colab": {
          "base_uri": "https://localhost:8080/"
        },
        "id": "3HIrRv78zs9K",
        "outputId": "58d3f162-c5fe-494c-8e84-318c9459a59c"
      },
      "execution_count": 2,
      "outputs": [
        {
          "output_type": "stream",
          "name": "stdout",
          "text": [
            "Phython version\n",
            "3.7.14 (default, Sep  8 2022, 00:06:44) \n",
            "[GCC 7.5.0]\n"
          ]
        }
      ]
    },
    {
      "cell_type": "code",
      "source": [
        "print(\"version info\")\n",
        "print(sys.version_info)"
      ],
      "metadata": {
        "colab": {
          "base_uri": "https://localhost:8080/"
        },
        "id": "oEniW45d0RVC",
        "outputId": "394355f1-4ccf-4ae1-fccf-f5045cc37eee"
      },
      "execution_count": 4,
      "outputs": [
        {
          "output_type": "stream",
          "name": "stdout",
          "text": [
            "version info\n",
            "sys.version_info(major=3, minor=7, micro=14, releaselevel='final', serial=0)\n"
          ]
        }
      ]
    },
    {
      "cell_type": "code",
      "source": [],
      "metadata": {
        "id": "KfHbFMZx05v5"
      },
      "execution_count": null,
      "outputs": []
    },
    {
      "cell_type": "code",
      "source": [
        "from datetime import date\n",
        "\n",
        "today= date.today()\n",
        "print(\"Today's  date\",today)"
      ],
      "metadata": {
        "colab": {
          "base_uri": "https://localhost:8080/"
        },
        "id": "NvF7E0V-1hG7",
        "outputId": "20f61d1b-04ed-42db-e9c3-064037368457"
      },
      "execution_count": 5,
      "outputs": [
        {
          "output_type": "stream",
          "name": "stdout",
          "text": [
            "Today's  date 2022-09-29\n"
          ]
        }
      ]
    },
    {
      "cell_type": "code",
      "source": [
        "from datetime import date\n",
        "\n",
        "today=date.today()\n",
        "\n",
        "# dd/mm/yy\n",
        "d1= today.strftime(\"%d/%m/%y\")\n",
        "print(\"d1=\",d1)"
      ],
      "metadata": {
        "colab": {
          "base_uri": "https://localhost:8080/"
        },
        "id": "McxA3VgV2krI",
        "outputId": "c2455057-e819-4b44-c068-9bf595283b93"
      },
      "execution_count": 6,
      "outputs": [
        {
          "output_type": "stream",
          "name": "stdout",
          "text": [
            "d1= 29/09/22\n"
          ]
        }
      ]
    },
    {
      "cell_type": "code",
      "source": [
        "# Textual month, day and year\n",
        "d2=today.strftime(\"%B%d,%Y\")\n",
        "print(\"d2=\",d2)"
      ],
      "metadata": {
        "colab": {
          "base_uri": "https://localhost:8080/"
        },
        "id": "0HB4qgcQ3sny",
        "outputId": "0f40aa77-11cd-4c22-93fb-897773c53f66"
      },
      "execution_count": 7,
      "outputs": [
        {
          "output_type": "stream",
          "name": "stdout",
          "text": [
            "d2= September29,2022\n"
          ]
        }
      ]
    },
    {
      "cell_type": "code",
      "source": [
        "from datetime import datetime\n",
        "\n",
        "# datetime object containing current date and time\n",
        "now= datetime.now()\n"
      ],
      "metadata": {
        "id": "uWbHHv7o4TGw"
      },
      "execution_count": 15,
      "outputs": []
    }
  ]
}