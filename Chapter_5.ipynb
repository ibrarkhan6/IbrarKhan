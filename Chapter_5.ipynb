{
  "nbformat": 4,
  "nbformat_minor": 0,
  "metadata": {
    "colab": {
      "provenance": [],
      "collapsed_sections": [],
      "authorship_tag": "ABX9TyMh/XXJqewjQ1bnVpUFaBzG",
      "include_colab_link": true
    },
    "kernelspec": {
      "name": "python3",
      "display_name": "Python 3"
    },
    "language_info": {
      "name": "python"
    }
  },
  "cells": [
    {
      "cell_type": "markdown",
      "metadata": {
        "id": "view-in-github",
        "colab_type": "text"
      },
      "source": [
        "<a href=\"https://colab.research.google.com/github/ibrarkhan6/IbrarKhan/blob/main/Chapter_5.ipynb\" target=\"_parent\"><img src=\"https://colab.research.google.com/assets/colab-badge.svg\" alt=\"Open In Colab\"/></a>"
      ]
    },
    {
      "cell_type": "markdown",
      "source": [
        "Chapter 5 Exercises "
      ],
      "metadata": {
        "id": "AUkjqpEkYKdf"
      }
    },
    {
      "cell_type": "markdown",
      "source": [
        "Exercise 1: Person ☑️\n",
        "Use a dictionary to store information about a person you know.Store their first name, last name, age, and the city in which they live. You\n",
        "\n",
        "should have keys such as first_name, last_name, age, and city. Print each piece of information stored in your dictionary."
      ],
      "metadata": {
        "id": "CxOiN8NcYOHM"
      }
    },
    {
      "cell_type": "code",
      "source": [
        "# In this excercise I have used a dictionary to store information about the people I know with help of keys usage.\n",
        "dictionary={\"first_name\":\"Shoaib\" ,\"last_name\":\"Akthar\",\"age\":\"21\", \"city\": \"Peshawar\"}\n",
        "print(dictionary[\"first_name\"])  \n",
        "print(dictionary[\"last_name\"])\n",
        "print(dictionary[\"age\"])\n",
        "print(dictionary[\"city\"])"
      ],
      "metadata": {
        "colab": {
          "base_uri": "https://localhost:8080/"
        },
        "id": "1N0RVhlZYXxQ",
        "outputId": "4860c32d-81e6-4e27-98d5-9dd4e2d5a590"
      },
      "execution_count": null,
      "outputs": [
        {
          "output_type": "stream",
          "name": "stdout",
          "text": [
            "Shoaib\n",
            "Akthar\n",
            "21\n",
            "Peshawar\n"
          ]
        }
      ]
    },
    {
      "cell_type": "markdown",
      "source": [
        "Exercise 2: Glossary ☑️\n",
        "A Python dictionary can be used to model an actual dictionary. However, to avoid confusion, let’s call it a glossary.\n",
        "\n",
        "Think of five programming words you’ve learned about in the previous chapters. Use these words as the keys in your glossary, and store"
      ],
      "metadata": {
        "id": "7xe8_DBXapQ0"
      }
    },
    {
      "cell_type": "code",
      "source": [
        "#  In this excercise I have used glossary about 5 programming words I have learned in the previous chapters.\n",
        "glossary = {\n",
        "   'strings': 'Sequence of characters, either as a literal constant or as some kind of variable.',\n",
        "  'float': 'A variable type that is used to store floating point number values.',\n",
        "  'print': 'To print objects to the text stream file seperated by sep and followed by the end.',\n",
        "  'if': 'Compound statements contains groups of other statements.',\n",
        "  'else': 'Statement is an alternative statement that is executed if the result of a previous test condition evaluates to false.',\n",
        "}\n",
        "\n",
        "word = 'strings'\n",
        "\n",
        "print(f\"\\n{word.title()}: {glossary[word]}\")\n",
        "\n",
        "word = 'float'                                       \n",
        "\n",
        "print(f\"\\n{word.title()}: {glossary[word]}\")\n",
        "\n",
        "word = 'print'\n",
        "\n",
        "print(f\"\\n{word.title()}: {glossary[word]}\")\n",
        "\n",
        "word = 'if'\n",
        "\n",
        "print(f\"\\n{word.title()}: {glossary[word]}\")\n",
        "\n",
        "word = 'else'\n",
        "\n",
        "print(f\"\\n{word.title()}: {glossary[word]}\")"
      ],
      "metadata": {
        "colab": {
          "base_uri": "https://localhost:8080/"
        },
        "id": "gMmSto63cD_Q",
        "outputId": "cbdb8a7e-69fe-4c92-f53d-43bf4d533f2f"
      },
      "execution_count": null,
      "outputs": [
        {
          "output_type": "stream",
          "name": "stdout",
          "text": [
            "\n",
            "Strings: Sequence of characters, either as a literal constant or as some kind of variable.\n",
            "\n",
            "Float: A variable type that is used to store floating point number values.\n",
            "\n",
            "Print: To print objects to the text stream file seperated by sep and followed by the end.\n",
            "\n",
            "If: Compound statements contains groups of other statements.\n",
            "\n",
            "Else: Statement is an alternative statement that is executed if the result of a previous test condition evaluates to false.\n"
          ]
        }
      ]
    },
    {
      "cell_type": "markdown",
      "source": [
        "Exercise 3: Glossary 2 ☑️\n",
        "Now that you know how to loop through a dictionary, clean up the code from Exercise 6-3 (page 99) by replacing your series of print()\n",
        "\n",
        "calls with a loop that runs through the dictionary’s keys and values. When you’re sure that your loop works, add five more Python terms\n",
        "\n",
        "to your glossary.When you run your program again, these new words and meanings should automatically be included in the output."
      ],
      "metadata": {
        "id": "4D7IaoT7cG5p"
      }
    },
    {
      "cell_type": "code",
      "source": [
        "# In this excercise I have loop through a dictionary and clean up the code from the previous excercise by replacing my series of print.\n",
        "# and the loop runs through the dictionary’s keys and values.\n",
        "glossary = {\n",
        "    'string': 'A series of characters.',\n",
        "    'comment': 'A note in a program that the Python interpreter ignores.',\n",
        "    'module': 'Haves a namespace containing arbitrary Python objects.',\n",
        "    'loop': 'Work through a collection of items, one at a time.',\n",
        "    'dictionary': \"A collection of key-value pairs.\",                                       \n",
        "    'elif': 'Short for else if, is used to execute a continuous chain of conditional logic ladder.',\n",
        "    'if': 'Compound statements contain groups of other statements.',\n",
        "    'descriptor': 'A class attribute special binding behavior is triggered upon attribute lookup when its a descriptor.',\n",
        "    'print': 'To print ojects to the text stream file, separated by sep and followed by end.',\n",
        "    'metaclass': 'The class of a class.',\n",
        "    }\n",
        "\n",
        "for word, definition in glossary.items():\n",
        "    print(f\"\\n{word.title()}: {definition}\")"
      ],
      "metadata": {
        "id": "zTJIDVBZcVwh",
        "colab": {
          "base_uri": "https://localhost:8080/"
        },
        "outputId": "67b9eb80-802f-4559-a804-dbad6941e888"
      },
      "execution_count": null,
      "outputs": [
        {
          "output_type": "stream",
          "name": "stdout",
          "text": [
            "\n",
            "String: A series of characters.\n",
            "\n",
            "Comment: A note in a program that the Python interpreter ignores.\n",
            "\n",
            "Module: Haves a namespace containing arbitrary Python objects.\n",
            "\n",
            "Loop: Work through a collection of items, one at a time.\n",
            "\n",
            "Dictionary: A collection of key-value pairs.\n",
            "\n",
            "Elif: Short for else if, is used to execute a continuous chain of conditional logic ladder.\n",
            "\n",
            "If: Compound statements contain groups of other statements.\n",
            "\n",
            "Descriptor: A class attribute special binding behavior is triggered upon attribute lookup when its a descriptor.\n",
            "\n",
            "Print: To print ojects to the text stream file, separated by sep and followed by end.\n",
            "\n",
            "Metaclass: The class of a class.\n"
          ]
        }
      ]
    },
    {
      "cell_type": "markdown",
      "source": [
        "\n",
        "Exercise 4: Rivers ☑️\n",
        "Make a dictionary containing three major rivers and the country each river runs through. One key-value pair might be 'nile': 'egypt'.\n",
        "\n",
        "Use a loop to print a sentence about each river, such as The Nile runs through Egypt.\n",
        "\n",
        "Use a loop to print the name of each river included in the dictionary.\n",
        "\n",
        "Use a loop to print the name of each country included in the dictionary."
      ],
      "metadata": {
        "id": "oRJpTut07AnZ"
      }
    },
    {
      "cell_type": "code",
      "source": [
        "# In this excercise I have used dictionary containing three major rivers in a each country \n",
        "#the each particular river runs through and used loop tp print information.\n",
        "rivers = {\n",
        "    'Lake Baikal': 'Russia',\n",
        "    'Loch Ness': 'Scotland',\n",
        "    'Lake Bled': 'Solvenia',\n",
        "    'Crater Lake': 'USA',\n",
        "    'Lake Bacalar': 'Mexico'\n",
        "    }\n",
        "                                                                         \n",
        "for river, country in rivers.items():\n",
        "    print(f\"The {river.title()} flows through {country.title()}.\")\n",
        "\n",
        "print(\"\\nThe following rivers are included in this data set:\")\n",
        "for river in rivers.keys():\n",
        "    print(f\"- {river.title()}\")\n",
        "\n",
        "print(\"\\nThe following countries are included in this data set:\")\n",
        "for country in rivers.values():\n",
        "    print(f\"- {country.title()}\")\n"
      ],
      "metadata": {
        "colab": {
          "base_uri": "https://localhost:8080/"
        },
        "id": "gJcYudHIRnTr",
        "outputId": "aeebeefe-8bb9-4dc8-af22-c0e52ed754b7"
      },
      "execution_count": null,
      "outputs": [
        {
          "output_type": "stream",
          "name": "stdout",
          "text": [
            "The Lake Baikal flows through Russia.\n",
            "The Loch Ness flows through Scotland.\n",
            "The Lake Bled flows through Solvenia.\n",
            "The Crater Lake flows through Usa.\n",
            "The Lake Bacalar flows through Mexico.\n",
            "\n",
            "The following rivers are included in this data set:\n",
            "- Lake Baikal\n",
            "- Loch Ness\n",
            "- Lake Bled\n",
            "- Crater Lake\n",
            "- Lake Bacalar\n",
            "\n",
            "The following countries are included in this data set:\n",
            "- Russia\n",
            "- Scotland\n",
            "- Solvenia\n",
            "- Usa\n",
            "- Mexico\n"
          ]
        }
      ]
    },
    {
      "cell_type": "markdown",
      "source": [
        "Exercise 5: Pets ☑️\n",
        "Make several dictionaries, where each dictionary represents a different pet. In each dictionary, include the kind of animal and the\n",
        "\n",
        "owner’s name. Store these dictionaries in a list called pets. Next, loop through your list and asyou do, print everything you know about\n",
        "\n",
        "each pet"
      ],
      "metadata": {
        "id": "d1gJENym7F6_"
      }
    },
    {
      "cell_type": "code",
      "source": [
        " # In this excercise I have made dictionairies about various pets and all the information I know about it and used loop through each list\n",
        "pets = []\n",
        "\n",
        "pet = {\n",
        "    'animal type': 'Camel',\n",
        "    'name': 'Amir',\n",
        "    'owner': 'Samir',\n",
        "    'weight': 500,\n",
        "    'eats': 'Grass',\n",
        "}\n",
        "pets.append(pet)     \n",
        "\n",
        "pet = {\n",
        "    'animal type': 'Cat',\n",
        "    'name': 'Kittu',\n",
        "    'owner': 'Ayesha',\n",
        "    'weight': 2,\n",
        "    'eats': 'Fish',\n",
        "}\n",
        "pets.append(pet)\n",
        "\n",
        "pet = {\n",
        "    'animal type': 'Owl',\n",
        "    'name': 'Harry Potter',\n",
        "    'owner': 'Dumbledore',\n",
        "    'weight': 4,\n",
        "    'eats': 'beetles',\n",
        "}\n",
        "pets.append(pet)\n",
        "\n",
        "for pet in pets:\n",
        "    print(f\"\\nHere's all the informatio and everything I  know about {pet['name'].title()}:\")\n",
        "    for key, value in pet.items():\n",
        "        print(f\"\\t{key}: {value}\")"
      ],
      "metadata": {
        "colab": {
          "base_uri": "https://localhost:8080/"
        },
        "id": "G-MnlsU1SoAQ",
        "outputId": "a81d3cb0-eac5-4186-d7a8-35c9c2cef3f6"
      },
      "execution_count": null,
      "outputs": [
        {
          "output_type": "stream",
          "name": "stdout",
          "text": [
            "\n",
            "Here's all the informatio and everything I  know about Amir:\n",
            "\tanimal type: Camel\n",
            "\tname: Amir\n",
            "\towner: Samir\n",
            "\tweight: 500\n",
            "\teats: Grass\n",
            "\n",
            "Here's all the informatio and everything I  know about Kittu:\n",
            "\tanimal type: Cat\n",
            "\tname: Kittu\n",
            "\towner: Ayesha\n",
            "\tweight: 2\n",
            "\teats: Fish\n",
            "\n",
            "Here's all the informatio and everything I  know about Harry Potter:\n",
            "\tanimal type: Owl\n",
            "\tname: Harry Potter\n",
            "\towner: Dumbledore\n",
            "\tweight: 4\n",
            "\teats: beetles\n"
          ]
        }
      ]
    }
  ]
}