{
  "nbformat": 4,
  "nbformat_minor": 0,
  "metadata": {
    "colab": {
      "provenance": [],
      "collapsed_sections": [],
      "toc_visible": true,
      "authorship_tag": "ABX9TyNfDZcv6kemYE3MnpEgSeYG",
      "include_colab_link": true
    },
    "kernelspec": {
      "name": "python3",
      "display_name": "Python 3"
    },
    "language_info": {
      "name": "python"
    }
  },
  "cells": [
    {
      "cell_type": "markdown",
      "metadata": {
        "id": "view-in-github",
        "colab_type": "text"
      },
      "source": [
        "<a href=\"https://colab.research.google.com/github/ibrarkhan6/IbrarKhan/blob/main/Chapter%203/Exercises/Chapter_3.ipynb\" target=\"_parent\"><img src=\"https://colab.research.google.com/assets/colab-badge.svg\" alt=\"Open In Colab\"/></a>"
      ]
    },
    {
      "cell_type": "markdown",
      "source": [
        "Chapter 3 (Data Structures) Exercises With Examples"
      ],
      "metadata": {
        "id": "AcGNbZvsIWUo"
      }
    },
    {
      "cell_type": "markdown",
      "source": [
        "Exercise 1: Names ☑️\n",
        "Store the names of a few of your friends in a list called names. Print each person’s name by accessing each element in the list, one at a time.\n",
        "\n",
        "   "
      ],
      "metadata": {
        "id": "DoVTw2AHIctt"
      }
    },
    {
      "cell_type": "code",
      "source": [
        "names= [\"Ibrar\", \"Khan\",\"Imran\"]\n",
        "print(names[0].title())\n",
        "print(names[1].title())\n",
        "print(names[2].title())\n"
      ],
      "metadata": {
        "colab": {
          "base_uri": "https://localhost:8080/"
        },
        "id": "zL_0WQCZIiex",
        "outputId": "91803d24-4a74-45ee-9c9d-d104a06c8536"
      },
      "execution_count": null,
      "outputs": [
        {
          "output_type": "stream",
          "name": "stdout",
          "text": [
            "Ibrar\n",
            "Khan\n",
            "Imran\n"
          ]
        }
      ]
    },
    {
      "cell_type": "markdown",
      "source": [
        "Exercise 2: Greetings ☑️\n",
        "Start with the list you used in Exercise 1, but instead of just\n",
        "\n",
        "printing each person’s name, print a message to them. The text of each message should be the same, but each message should be\n",
        "\n",
        "personalized with the person’s name.\n",
        "\n",
        "   "
      ],
      "metadata": {
        "id": "df5DnzVbJI0t"
      }
    },
    {
      "cell_type": "code",
      "source": [
        "names= [\"Ibrar\", \"Khan\",\"Imran\"]\n",
        "print(\"Hello nice to meet you,\"+names[0].title()+\".\")\n",
        "print(\"Hello nice to meet you,\"+names[1].title()+\".\")\n",
        "print(\"Hello nice to meet you,\"+names[2].title()+\".\")"
      ],
      "metadata": {
        "colab": {
          "base_uri": "https://localhost:8080/"
        },
        "id": "qwfpNsVrJPs0",
        "outputId": "cfe4648e-2ef4-4f76-cd93-0efb583969c5"
      },
      "execution_count": null,
      "outputs": [
        {
          "output_type": "stream",
          "name": "stdout",
          "text": [
            "Hello nice to meet you,Ibrar.\n",
            "Hello nice to meet you,Khan.\n",
            "Hello nice to meet you,Imran.\n"
          ]
        }
      ]
    },
    {
      "cell_type": "markdown",
      "source": [
        "Exercise 3: Your Own List ☑️\n",
        "Think of your favorite mode of transportation, such as a motorcycle or a car, and make a list that stores several examples. Use your list\n",
        "\n",
        "to print a series of statements about these items, such as “I would like to own a Honda motorcycle.”"
      ],
      "metadata": {
        "id": "uCDAnRQTPsq0"
      }
    },
    {
      "cell_type": "code",
      "source": [
        "transport_modes= [\"Car\", \"Bike\",\"Train\"]\n",
        "print(\"I will buy a ,\"+transport_modes[0].title()+\".\")\n",
        "print(\"Tomorrow I will own a ,\"+transport_modes[1].title()+\".\")\n",
        "print(\"Someday I would like to own,\"+transport_modes[2].title()+\".\")"
      ],
      "metadata": {
        "colab": {
          "base_uri": "https://localhost:8080/"
        },
        "id": "SFzzJ7sQWd2T",
        "outputId": "ddd035d0-2af6-419f-e110-ff391eb2a095"
      },
      "execution_count": null,
      "outputs": [
        {
          "output_type": "stream",
          "name": "stdout",
          "text": [
            "I will buy a ,Car.\n",
            "Tomorrow I will own a ,Bike.\n",
            "Someday I would like to own,Train.\n"
          ]
        }
      ]
    },
    {
      "cell_type": "markdown",
      "source": [
        "Exercise 4: Guest List ☑️\n",
        "If you could invite anyone, living or deceased, to dinner, who would you invite? Make a list that includes at least three people you’d\n",
        "\n",
        "like to invite  to dinner. Then use your list to print a message to each person, inviting them to dinner.\n",
        "\n"
      ],
      "metadata": {
        "id": "Q08_WGM4RUzC"
      }
    },
    {
      "cell_type": "code",
      "source": [
        "guest_list= [\"Fahad\",\"Faraz\",\"Azeem\",\"Tahir\"]\n",
        "print(\"Kindly visit our house tonight for a dinner,\"+guest_list[0].title()+\".\")\n",
        "print(\"Kindly visit our house tonight for a dinner,\"+guest_list[1].title()+\".\")\n",
        "print(\"Kindly visit our house tonight for a dinner,\"+guest_list[2].title()+\".\")\n",
        "print(\"Kindly visit our house tonight for a dinner,\"+guest_list[3].title()+\".\")"
      ],
      "metadata": {
        "colab": {
          "base_uri": "https://localhost:8080/"
        },
        "id": "O-vrWs9DRmtw",
        "outputId": "7eee1215-3f06-4e97-8a59-1825638a883c"
      },
      "execution_count": null,
      "outputs": [
        {
          "output_type": "stream",
          "name": "stdout",
          "text": [
            "Kindly visit our house tonight for a dinner,Fahad.\n",
            "Kindly visit our house tonight for a dinner,Faraz.\n",
            "Kindly visit our house tonight for a dinner,Azeem.\n",
            "Kindly visit our house tonight for a dinner,Tahir.\n"
          ]
        }
      ]
    },
    {
      "cell_type": "markdown",
      "source": [
        "\n",
        "Exercise 5: Change Guest List ☑️\n",
        "You just heard that one of your guests can’t make the dinner, so you need to send out a new set of invitations. You’ll have to think of someone else to invite.\n",
        "\n",
        "•Start with your program from Exercise 3-4. Add a print() call at the end of your program stating the name of the guest who can’t make it.\n",
        "\n",
        "•Modify your list, replacing the name of the guest who can’t make it with the name of the new person you are inviting.\n",
        "\n",
        "•Print a second set of invitation messages, one for each person who is still in your list.\n",
        "\n",
        "   "
      ],
      "metadata": {
        "id": "UC8fR1j7SZql"
      }
    },
    {
      "cell_type": "code",
      "source": [
        "guest_list= [\"Fahad\",\"Faraz\",\"Azeem\",\"Tahir\"]\n",
        "print('Just got a call ' + guest_list [2]+ \" will not be able to attened.\")\n",
        "\n",
        "guest_list[2]=\"Ryan\"\n",
        "print(guest_list)\n",
        "\n",
        "print(\"Kindly note your invited for tonights dinner,\"+guest_list[0].title()+\".\")\n",
        "print(\"Kindly note your invited for tonights dinner,\"+guest_list[1].title()+\".\")\n",
        "print(\"Kindly note your invited for tonights dinner,\"+guest_list[2].title()+\".\")\n",
        "print(\"Kindly note your invited for tonights dinner,\"+guest_list[3].title()+\".\")\n",
        "\n"
      ],
      "metadata": {
        "colab": {
          "base_uri": "https://localhost:8080/"
        },
        "id": "XShARzDMXofY",
        "outputId": "716fd63b-1d41-4a42-8446-5ec1f8e7bc95"
      },
      "execution_count": null,
      "outputs": [
        {
          "output_type": "stream",
          "name": "stdout",
          "text": [
            "Just got a call Azeem will not be able to attened.\n",
            "['Fahad', 'Faraz', 'Ryan', 'Tahir']\n",
            "Kindly note your invited for tonights dinner,Fahad.\n",
            "Kindly note your invited for tonights dinner,Faraz.\n",
            "Kindly note your invited for tonights dinner,Ryan.\n",
            "Kindly note your invited for tonights dinner,Tahir.\n"
          ]
        }
      ]
    },
    {
      "cell_type": "markdown",
      "source": [
        "Exercise 6: Shrinking Guest List ☑️\n",
        "You just found out that your new dinner table won’t arrive in time for the dinner, and you have space for only two guests.\n",
        "\n",
        "•Start with your program from Exercise 3-5. Add a new line that prints a message saying that you can invite only two people for dinner.\n",
        "\n",
        "•Use pop() to remove guests from your list one at a time until only two names remain in your list. Each time you pop a name from your list, print a message to that person letting them know you’re sorry you can’t invite them to dinner.\n",
        "\n",
        "•Print a message to each of the two people still on your list, letting them know they’re still invited.\n",
        "\n",
        "•Use del to remove the last two names from your list, so you have an empty list. Print your list to make sure you actually have an empty list at"
      ],
      "metadata": {
        "id": "47RRmditb1bn"
      }
    },
    {
      "cell_type": "code",
      "source": [
        "guest_list= [\"Fahad\",\"Faraz\",\"Azeem\",\"Tahir\"]\n",
        "print(\"I am sorry to form you that I can only invite two people for tonights dinner as the dinner table have space only for two guests.\")\n",
        "\n",
        "print(\"Sorry my dear friend your not invited for tonights dinner,\"+guest_list[3].title()+\".\")\n",
        "guest_list.pop(3)\n",
        "print(guest_list)\n",
        "\n",
        "print(\"Sorry my dear friend your not invited for tonights dinner,\"+guest_list[1].title()+\".\")\n",
        "guest_list.pop(1)\n",
        "print(guest_list)\n",
        "\n",
        "print(\"Kindly note your still invited for tonights dinner,\"+guest_list[0].title()+\".\")\n",
        "print(\"Kindly note your still invited for tonights dinner,\"+guest_list[1].title()+\".\")\n",
        "\n",
        "del guest_list[:]\n",
        "print(\"Guest List:\",guest_list)"
      ],
      "metadata": {
        "colab": {
          "base_uri": "https://localhost:8080/"
        },
        "id": "y3TR6vItdLYF",
        "outputId": "f0cc5110-6625-4269-dd48-1e87a78d43dd"
      },
      "execution_count": null,
      "outputs": [
        {
          "output_type": "stream",
          "name": "stdout",
          "text": [
            "I am sorry to form you that I can only invite two people for tonights dinner as the dinner table have space only for two guests.\n",
            "Sorry my dear friend your not invited for tonights dinner,Tahir.\n",
            "['Fahad', 'Faraz', 'Azeem']\n",
            "Sorry my dear friend your not invited for tonights dinner,Faraz.\n",
            "['Fahad', 'Azeem']\n",
            "Kindly note your still invited for tonights dinner,Fahad.\n",
            "Kindly note your still invited for tonights dinner,Azeem.\n",
            "Guest List: []\n"
          ]
        }
      ]
    },
    {
      "cell_type": "markdown",
      "source": [
        "Exercise 7: Seeing the World ☑️\n",
        "Think of at least five places in the world you’d like to visit. • Store the locations in a list. Make sure the list is not in alphabetical order.\n",
        "\n",
        "• Print your list in its original order. Don’t worry about printing the list neatly,just print it as a raw Python list.\n",
        "\n",
        "• Use sorted() to print your list in alphabetical order without modifying the actual list.\n",
        "\n",
        "• Show that your list is still in its original order by printing it.\n",
        "\n",
        "• Use sorted() to print your list in reverse alphabetical order without changing the order of the original list.\n",
        "\n",
        "• Show that your list is still in its original order by printing it again.\n",
        "\n",
        "• Use reverse() to change the order of your list. Print the list to show that its order has changed.\n",
        "\n",
        "• Use reverse() to change the order of your list again. Print the list to show it’s back to its original order.\n",
        "\n",
        "• Use sort() to change your list so it’s stored in alphabetical order. Print the list to show that its order has been changed.\n",
        "\n",
        "• Use sort() to change your list so it’s stored in reverse alphabetical order. Print the list to show that its order has changed.\n",
        "\n",
        "   \n",
        "\n"
      ],
      "metadata": {
        "id": "reOvVEJRgCDt"
      }
    },
    {
      "cell_type": "code",
      "source": [
        "places= [\"Napoli\",\"Tibet\",\"Danube\",\"Indus\",\"Lithuania\"]\n",
        "print(places)\n",
        "print('\\n')\n",
        "\n",
        "print(sorted(places))\n",
        "print(places)\n",
        "\n",
        "print('\\n')\n",
        "\n",
        "print(sorted(places,reverse=True))\n",
        "print(places)\n",
        "\n",
        "print('\\n')\n",
        "\n",
        "places = list(reversed(places))\n",
        "print(places)\n",
        "\n",
        "print('\\n')\n",
        "\n",
        "places = list(reversed(places))\n",
        "print(places)\n",
        "\n",
        "print('\\n')\n",
        "\n",
        "places.sort()\n",
        "print(places)\n",
        "\n",
        "places.sort(reverse=True)"
      ],
      "metadata": {
        "colab": {
          "base_uri": "https://localhost:8080/"
        },
        "id": "nhbgnyKJgXNT",
        "outputId": "67f11c38-3d9f-4907-8aaf-ee7611bb88c6"
      },
      "execution_count": null,
      "outputs": [
        {
          "output_type": "stream",
          "name": "stdout",
          "text": [
            "['Napoli', 'Tibet', 'Danube', 'Indus', 'Lithuania']\n",
            "\n",
            "\n",
            "['Danube', 'Indus', 'Lithuania', 'Napoli', 'Tibet']\n",
            "['Napoli', 'Tibet', 'Danube', 'Indus', 'Lithuania']\n",
            "\n",
            "\n",
            "['Tibet', 'Napoli', 'Lithuania', 'Indus', 'Danube']\n",
            "['Napoli', 'Tibet', 'Danube', 'Indus', 'Lithuania']\n",
            "\n",
            "\n",
            "['Lithuania', 'Indus', 'Danube', 'Tibet', 'Napoli']\n",
            "\n",
            "\n",
            "['Napoli', 'Tibet', 'Danube', 'Indus', 'Lithuania']\n",
            "\n",
            "\n",
            "['Danube', 'Indus', 'Lithuania', 'Napoli', 'Tibet']\n"
          ]
        }
      ]
    },
    {
      "cell_type": "markdown",
      "source": [
        "Examples"
      ],
      "metadata": {
        "id": "F7dZyfuzxdEn"
      }
    },
    {
      "cell_type": "code",
      "execution_count": null,
      "metadata": {
        "colab": {
          "base_uri": "https://localhost:8080/"
        },
        "id": "gCfoSi2pzhnS",
        "outputId": "9f4251c2-e70e-4ce3-d8f3-eaf408c393ac"
      },
      "outputs": [
        {
          "output_type": "stream",
          "name": "stdout",
          "text": [
            "enter two numbers\n",
            "15\n",
            "5\n",
            "sum of 15 and 5 is 20\n",
            "diff of 15 and 5 is 10\n",
            "Multiplication of 15 and 5 is 75\n",
            "division of 15 and 5 is 3.0\n",
            "modulus of 15 and 5 is 0\n",
            "modulus of 15 and 5 is 0\n"
          ]
        }
      ],
      "source": [
        "print(places)\n",
        "a=int(input())\n",
        "b=int(inpit())\n",
        "sum=a+b\n",
        "print(\"sum of \" +str(a)+ \" and \"+str(b)+ \" is \" +str (sum))\n",
        "diff=a-b\n",
        "print(\"diff of \" +str(a)+ \" and \"+str(b)+ \" is \" +str (diff))\n",
        "multiplication=a*b\n",
        "print(\"Multiplication of \" +str(a)+ \" and \"+str(b)+ \" is \" +str (multiplication))\n",
        "division=a/b\n",
        "print(\"division of \" +str(a)+ \" and \"+str(b)+ \" is \" +str (division))\n",
        "modulus=a%b\n",
        "print(\"modulus of \" +str(a)+ \" and \"+str(b)+ \" is \" +str (modulus))\n",
        "power=a**b\n",
        "print(\"modulus of \" +str(a)+ \" and \"+str(b)+ \" is \" +str (modulus))\n",
        "\n",
        "\n",
        "\n"
      ]
    },
    {
      "cell_type": "code",
      "source": [
        "m=50\n",
        "ip=6\n",
        "\n",
        "amount = int(m)/int(ip)\n",
        "cost = int(amount)*int(ip)\n",
        "change = int(m)-int(cost)\n",
        "\n",
        "print(\"the amount of items you can buy is\", int(amount))\n",
        "print(\"your leftover change is\",int(change))"
      ],
      "metadata": {
        "colab": {
          "base_uri": "https://localhost:8080/"
        },
        "id": "2DQUL43t_eWU",
        "outputId": "7d1d4c08-5459-4495-d32d-20480faec1c2"
      },
      "execution_count": null,
      "outputs": [
        {
          "output_type": "stream",
          "name": "stdout",
          "text": [
            "the amount of items you can buy is 8\n",
            "your leftover change is 2\n"
          ]
        }
      ]
    },
    {
      "cell_type": "code",
      "source": [
        "x1=5\n",
        "y1=5\n",
        "x2='Hello'\n",
        "y2='Hello'\n",
        "x3=[1,2,3]\n",
        "y3=[1,2,3]\n",
        "\n",
        "# Output: False\n",
        "print(x1 is not y1)\n",
        "\n",
        "# Output: True\n",
        "print(x2 is y2)\n",
        "\n",
        "#Output: False\n",
        "print(x3 is y3)"
      ],
      "metadata": {
        "colab": {
          "base_uri": "https://localhost:8080/"
        },
        "id": "b6LzL1M7AIu9",
        "outputId": "f5b10d6e-0a70-46ee-fd7f-0ccef6b3eba8"
      },
      "execution_count": null,
      "outputs": [
        {
          "output_type": "stream",
          "name": "stdout",
          "text": [
            "False\n",
            "True\n",
            "False\n"
          ]
        }
      ]
    },
    {
      "cell_type": "code",
      "source": [
        "age = 12\n",
        "if age >= 20:\n",
        "  print(\"Your are old enough to vote!\")\n",
        "else:\n",
        "  # Executes if false\n",
        "  print(\"sorry, you are too young to vote\")"
      ],
      "metadata": {
        "colab": {
          "base_uri": "https://localhost:8080/"
        },
        "id": "DCy-U1mnBehy",
        "outputId": "4af31f65-e76b-4d26-9ddd-69b9b040a9ba"
      },
      "execution_count": null,
      "outputs": [
        {
          "output_type": "stream",
          "name": "stdout",
          "text": [
            "sorry, you are too young to vote\n"
          ]
        }
      ]
    },
    {
      "cell_type": "code",
      "source": [
        "date = input (\"you wanna give daddy a car?\")\n",
        "\n",
        "if date ==\"yes\":\n",
        "   print(\"ooo ye dadii\")\n",
        "elif date == \"no\":\n",
        "  print(\"oh no dadii\")\n",
        "\n"
      ],
      "metadata": {
        "colab": {
          "base_uri": "https://localhost:8080/"
        },
        "id": "8juYICsEDPwd",
        "outputId": "baa11e46-3d5a-4eb6-ae05-0d62968d2850"
      },
      "execution_count": null,
      "outputs": [
        {
          "output_type": "stream",
          "name": "stdout",
          "text": [
            "you wanna give daddy a car?yes\n",
            "ooo ye dadii\n"
          ]
        }
      ]
    },
    {
      "cell_type": "code",
      "source": [
        "# Declare two numbers in two variables\n",
        "a, b, = 10, 20\n",
        "#Copy value of a in min if a < b else copy b\n",
        "if a>b:\n",
        "  min=a\n",
        "else:\n",
        "  min=b\n",
        "print('The minimum value is '+str(min))"
      ],
      "metadata": {
        "colab": {
          "base_uri": "https://localhost:8080/"
        },
        "id": "xdFZdmTHIWuK",
        "outputId": "646b5f2a-79fe-4531-ad69-28d849aa6154"
      },
      "execution_count": null,
      "outputs": [
        {
          "output_type": "stream",
          "name": "stdout",
          "text": [
            "The minimum value is 20\n"
          ]
        }
      ]
    },
    {
      "cell_type": "code",
      "source": [
        "snacks=[\"Mars\", \"Lays\",\"Oreo\"]# String list\n",
        "snacks[0]=\"galaxy\" #The first element is replaced with galaxy\n",
        "print(snacks)#[\"Mars\", \"Lays\",\"Oreo\"]"
      ],
      "metadata": {
        "colab": {
          "base_uri": "https://localhost:8080/"
        },
        "id": "2NKRE6TKVeq9",
        "outputId": "3156f284-8c05-40e7-f908-aa970b0659a9"
      },
      "execution_count": null,
      "outputs": [
        {
          "output_type": "stream",
          "name": "stdout",
          "text": [
            "['galaxy', 'Lays', 'Oreo']\n"
          ]
        }
      ]
    }
  ]
}