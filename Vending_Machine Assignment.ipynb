{
  "nbformat": 4,
  "nbformat_minor": 0,
  "metadata": {
    "colab": {
      "provenance": [],
      "authorship_tag": "ABX9TyMIjf8Gk9U60SD+8pa56u4x",
      "include_colab_link": true
    },
    "kernelspec": {
      "name": "python3",
      "display_name": "Python 3"
    },
    "language_info": {
      "name": "python"
    }
  },
  "cells": [
    {
      "cell_type": "markdown",
      "metadata": {
        "id": "view-in-github",
        "colab_type": "text"
      },
      "source": [
        "<a href=\"https://colab.research.google.com/github/ibrarkhan6/IbrarKhan/blob/main/Vending_Machine%20Assignment.ipynb\" target=\"_parent\"><img src=\"https://colab.research.google.com/assets/colab-badge.svg\" alt=\"Open In Colab\"/></a>"
      ]
    },
    {
      "cell_type": "markdown",
      "source": [
        "**Vending Machine**"
      ],
      "metadata": {
        "id": "6DXk4Pygbqd2"
      }
    },
    {
      "cell_type": "code",
      "source": [
        "# So here we are using python program to create Vending Machine\n",
        "# The vending machine consists of 5 iteams\n",
        "# Iteams in stocks are Milky Bar,Fanta,Kurkure,Thumbs Up,Wai-Wai\n",
        "items_in_stock = [\n",
        "    {\n",
        "        \"item_id\": 0,\n",
        "        \"item_name\": \"Red Bull\",\n",
        "        'item_price': 75,\n",
        "    },\n",
        "    {\n",
        "        \"item_id\": 1,\n",
        "        \"item_name\": \"Mars\",\n",
        "        'item_price': 45,\n",
        "    },\n",
        "    {\n",
        "        \"item_id\": 2,\n",
        "        \"item_name\": \"Lays\",\n",
        "        'item_price': 35,\n",
        "    },\n",
        "    {\n",
        "        \"item_id\": 3,\n",
        "        \"item_name\": \"Masafi Watter\",\n",
        "        'item_price': 25,\n",
        "    },\n",
        "    {\n",
        "        \"item_id\": 4,\n",
        "        \"item_name\": \"Kit Kat\",\n",
        "        'item_price': 20,\n",
        "    },\n",
        "]\n",
        "# So in this program receipt is \"\"\"\" and the sum is equal to 0\n",
        "\n",
        "the_item = []\n",
        "\n",
        "reciept = \"\"\"\n",
        "\\t\\tPRODUCT -- PRICE\n",
        "\"\"\"\n",
        "\n",
        "sum = 0\n",
        "# and as we run it is equal to True\n",
        "run = True\n",
        "# Here we have used the print function to write comment-\n",
        "#vending machine with python\n",
        "# Here we have used the print function to write comment\"The Items In Stock Are\"\n",
        "#Here we have used the print function to write comment\"Would You Like To Buy-\n",
        "#Extra Kurkure Also As A Valuable Customer\"\"\n",
        "print(\"------- Welcome To The Vending Machine Made with Python-------\\n\\n\")\n",
        "print(\"----------The Items In Stock Are Shown Below And You Can Buy It At Fair Price----------\\n\\n\")\n",
        "print(\"----------Would You Like To Buy Extra Kit Kat Also As A Valuable Customer Of Yours----------\\n\\n\")\n",
        "#Here I have used the for function for items_in_stock\n",
        "for i in items_in_stock:\n",
        "    print(f\"Item: {i['item_name']} --- Price: {i['item_price']} --- Item ID: {i['item_id']}\")\n",
        "\n",
        "def machine(items_in_stock, run, the_item):\n",
        "    while run:\n",
        "#Here I have used the while run function to enter the item code of the \n",
        "#product you want to buy\n",
        "        buy_item = int(input(\"\\n\\nEnter the item code of the product you want to buy: \"))\n",
        "#Here I have used if function to buy items in stock\n",
        "        if buy_item < len(items_in_stock):\n",
        "            the_item.append(items_in_stock[buy_item])\n",
        "        else:\n",
        "            print(\"THE PRODUCT ID IS WRONG!\")\n",
        "#Here I have else function to print if the product id is wrong\n",
        "        more_items = str(input(\"press any key to add more items and press q to quit.. \"))\n",
        "#Here I have used the if function to run the false\n",
        "        if more_items == \"q\":\n",
        "            run = False\n",
        "#Here I have used the if function to rec_bool\n",
        "#Here I have the elif function also to print the_item, reciept and else function\n",
        "#To print invalid entry\n",
        "    rec_bool = int(input((\"1. print the reciept? 2. only print the total sum .. \")))\n",
        "    if rec_bool == 1:\n",
        "        print(create_reciept(the_item, reciept))\n",
        "    elif rec_bool == 2:\n",
        "        print(sum(rec_bool))\n",
        "    else:\n",
        "        print(\"INVALID ENTRY\")\n",
        "\n",
        "#Here I have used the def function for the sum of the item\n",
        "def sum(the_item):\n",
        "    sum = 0\n",
        "\n",
        "    for i in the_item:\n",
        "        sum += i[\"item_price\"]\n",
        "\n",
        "    return sum\n",
        "#Here I have used the def function to create reciept\n",
        "def create_reciept(the_item, reciept):\n",
        "# and for i in the item\n",
        "    for i in the_item:\n",
        "        reciept += f\"\"\"\n",
        "        \\t{i[\"item_name\"]} -- {i['item_price']}\n",
        "        \"\"\"\n",
        "\n",
        "    reciept += f\"\"\"\n",
        "        \\tTotal --- {sum(the_item)}        \n",
        "        \n",
        "        \"\"\"\n",
        "    return reciept\n",
        "\n",
        "\n",
        "if __name__ == \"__main__\":\n",
        "    machine(items_in_stock, run, the_item)"
      ],
      "metadata": {
        "colab": {
          "base_uri": "https://localhost:8080/"
        },
        "id": "9xckggqYl90A",
        "outputId": "2d1bcd3d-d78e-4151-d954-66dde0f9da42"
      },
      "execution_count": 1,
      "outputs": [
        {
          "output_type": "stream",
          "name": "stdout",
          "text": [
            "------- Welcome To The Vending Machine Made with Python-------\n",
            "\n",
            "\n",
            "----------The Items In Stock Are Shown Below And You Can Buy It At Fair Price----------\n",
            "\n",
            "\n",
            "----------Would You Like To Buy Extra Kit Kat Also As A Valuable Customer Of Yours----------\n",
            "\n",
            "\n",
            "Item: Red Bull --- Price: 75 --- Item ID: 0\n",
            "Item: Mars --- Price: 45 --- Item ID: 1\n",
            "Item: Lays --- Price: 35 --- Item ID: 2\n",
            "Item: Masafi Watter --- Price: 25 --- Item ID: 3\n",
            "Item: Kit Kat --- Price: 20 --- Item ID: 4\n",
            "\n",
            "\n",
            "Enter the item code of the product you want to buy: 0\n",
            "press any key to add more items and press q to quit.. q\n",
            "1. print the reciept? 2. only print the total sum .. 1\n",
            "\n",
            "\t\tPRODUCT -- PRICE\n",
            "\n",
            "        \tRed Bull -- 75\n",
            "        \n",
            "        \tTotal --- 75        \n",
            "        \n",
            "        \n"
          ]
        }
      ]
    },
    {
      "cell_type": "code",
      "source": [],
      "metadata": {
        "id": "mzRwr7cVpZY-"
      },
      "execution_count": null,
      "outputs": []
    }
  ]
}